{
 "cells": [
  {
   "cell_type": "code",
   "execution_count": null,
   "id": "3b296612-4d21-43c8-8bb7-d16e3177de9f",
   "metadata": {},
   "outputs": [],
   "source": [
    "### Classification\n",
    "In classification the target is a category and its conditional distribution is \n",
    "$$P({\\mathbf y}|x)$$\n",
    "where:\n",
    "- $\\mathbf{y} \\in \\{ C_1,\\dots, C_K\\}$ represents the output variable (also called target)\n",
    "- $x \\in \\mathbb{R}^n$ represents the vector of inputs (also called features)\n",
    "\n",
    "In classification, the goal of learning is to return an estimator \n",
    "$$h(x,\\alpha)$$\n",
    "of the conditional probabiity $P({\\mathbf y}|x)$, where $\\alpha$ denotes the set of parameters of the model $h$. \n",
    "\n",
    "The learning of the estimator is done  on the basis of an available input/output\n",
    "training set $D_N$ made of $N$ observation pairs $(\\mathbf{x}_i,y_i)$ where $x_i \\in \\mathbb{R}^n$. \n"
   ]
  }
 ],
 "metadata": {
  "kernelspec": {
   "display_name": "Python 3 (ipykernel)",
   "language": "python",
   "name": "python3"
  },
  "language_info": {
   "codemirror_mode": {
    "name": "ipython",
    "version": 3
   },
   "file_extension": ".py",
   "mimetype": "text/x-python",
   "name": "python",
   "nbconvert_exporter": "python",
   "pygments_lexer": "ipython3",
   "version": "3.11.6"
  }
 },
 "nbformat": 4,
 "nbformat_minor": 5
}
