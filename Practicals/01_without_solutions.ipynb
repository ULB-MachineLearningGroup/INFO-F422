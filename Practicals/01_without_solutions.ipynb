{
 "cells": [
  {
   "cell_type": "markdown",
   "metadata": {
    "id": "BmoA2DsZyAtU"
   },
   "source": [
    "# Practical 1: Introduction to probabilistic methods and Monte Carlo simulations\n",
    "_2024-2025 - Tribel Pascal_\n",
    "\n",
    "In this first practical work, you will become familiar with the fundamental concepts of probabilistic methods and Monte Carlo simulations, using Python and its standard libraries for mathematical and graphical manipulation.\n",
    "\n",
    "## Necessary libraries\n",
    "\n",
    "To run this practical work, the following libraries must be installed:\n",
    "- `NumPy`: Vector and matrix manipulation, random number generation,\n",
    "- `SciPy`: For advanced numerical statistical methods,\n",
    "- `Pandas`: For advanced data manipulation\n",
    "- `Matplotlib`, `seaborn`: For data visualization,\n",
    "- `tqdm`: For beautiful loading bars.\n",
    "\n",
    "If you are using Jupyter Notebook, you can install the dependencies directly by running the cell below:"
   ]
  },
  {
   "cell_type": "code",
   "execution_count": 1,
   "metadata": {
    "id": "dVb6-xP2yAtV",
    "outputId": "b0dbc944-09f0-4740-e867-4f0bbcf87d97"
   },
   "outputs": [
    {
     "name": "stdout",
     "output_type": "stream",
     "text": [
      "Requirement already satisfied: numpy in /Library/Frameworks/Python.framework/Versions/3.11/lib/python3.11/site-packages (1.26.4)\n",
      "Requirement already satisfied: matplotlib in /Library/Frameworks/Python.framework/Versions/3.11/lib/python3.11/site-packages (3.10.0)\n",
      "Requirement already satisfied: tqdm in /Library/Frameworks/Python.framework/Versions/3.11/lib/python3.11/site-packages (4.66.6)\n",
      "Requirement already satisfied: pandas in /Library/Frameworks/Python.framework/Versions/3.11/lib/python3.11/site-packages (2.2.3)\n",
      "Requirement already satisfied: seaborn in /Library/Frameworks/Python.framework/Versions/3.11/lib/python3.11/site-packages (0.13.2)\n",
      "Requirement already satisfied: contourpy>=1.0.1 in /Library/Frameworks/Python.framework/Versions/3.11/lib/python3.11/site-packages (from matplotlib) (1.3.1)\n",
      "Requirement already satisfied: cycler>=0.10 in /Library/Frameworks/Python.framework/Versions/3.11/lib/python3.11/site-packages (from matplotlib) (0.12.1)\n",
      "Requirement already satisfied: fonttools>=4.22.0 in /Library/Frameworks/Python.framework/Versions/3.11/lib/python3.11/site-packages (from matplotlib) (4.55.3)\n",
      "Requirement already satisfied: kiwisolver>=1.3.1 in /Library/Frameworks/Python.framework/Versions/3.11/lib/python3.11/site-packages (from matplotlib) (1.4.8)\n",
      "Requirement already satisfied: packaging>=20.0 in /Library/Frameworks/Python.framework/Versions/3.11/lib/python3.11/site-packages (from matplotlib) (24.2)\n",
      "Requirement already satisfied: pillow>=8 in /Library/Frameworks/Python.framework/Versions/3.11/lib/python3.11/site-packages (from matplotlib) (11.1.0)\n",
      "Requirement already satisfied: pyparsing>=2.3.1 in /Library/Frameworks/Python.framework/Versions/3.11/lib/python3.11/site-packages (from matplotlib) (3.2.1)\n",
      "Requirement already satisfied: python-dateutil>=2.7 in /Library/Frameworks/Python.framework/Versions/3.11/lib/python3.11/site-packages (from matplotlib) (2.9.0.post0)\n",
      "Requirement already satisfied: pytz>=2020.1 in /Library/Frameworks/Python.framework/Versions/3.11/lib/python3.11/site-packages (from pandas) (2024.2)\n",
      "Requirement already satisfied: tzdata>=2022.7 in /Library/Frameworks/Python.framework/Versions/3.11/lib/python3.11/site-packages (from pandas) (2024.2)\n",
      "Requirement already satisfied: six>=1.5 in /Library/Frameworks/Python.framework/Versions/3.11/lib/python3.11/site-packages (from python-dateutil>=2.7->matplotlib) (1.17.0)\n"
     ]
    }
   ],
   "source": [
    "!pip install numpy matplotlib tqdm pandas seaborn"
   ]
  },
  {
   "cell_type": "markdown",
   "metadata": {
    "id": "_73WAQItyAtW"
   },
   "source": [
    "If the libraries are already installed, you can skip this step.\n",
    "\n",
    "## 1. Introduction to `NumPy`\n",
    "`NumPy` is an essential library for scientific computations in Python. It offers:\n",
    "- `ndarray` objects to represent multi-dimensional arrays.\n",
    "- A collection of mathematical functions to perform fast operations on these arrays.\n",
    "\n",
    "### Manipulation of `NumPy` arrays\n",
    "Here are some examples for creating and manipulating `NumPy` arrays:"
   ]
  },
  {
   "cell_type": "code",
   "execution_count": 2,
   "metadata": {
    "id": "t1Lf7uO2yAtX"
   },
   "outputs": [],
   "source": [
    "import numpy as np"
   ]
  },
  {
   "cell_type": "markdown",
   "metadata": {
    "id": "m8IngLiByAtX"
   },
   "source": [
    "## Example of creation of arrays"
   ]
  },
  {
   "cell_type": "code",
   "execution_count": 3,
   "metadata": {
    "id": "mSPkcRTTyAtX",
    "outputId": "755b79bc-408b-482a-8ce2-8828ce30b1e9"
   },
   "outputs": [
    {
     "name": "stdout",
     "output_type": "stream",
     "text": [
      "[1 2 3]\n",
      "[0.  0.2 0.4 0.6 0.8 1.  1.2 1.4 1.6 1.8 2.  2.2 2.4 2.6 2.8]\n",
      "[0.         0.55555556 1.11111111 1.66666667 2.22222222 2.77777778\n",
      " 3.33333333 3.88888889 4.44444444 5.        ]\n",
      "[0.         0.22222222 0.44444444 0.66666667 0.88888889 1.11111111\n",
      " 1.33333333 1.55555556 1.77777778 2.        ]\n",
      "[[1 2 3]\n",
      " [4 5 6]\n",
      " [7 8 9]]\n"
     ]
    }
   ],
   "source": [
    "v0 = np.array([1, 2, 3])\n",
    "v1 = np.arange(0, 3, 0.2)\n",
    "v2 = np.linspace(0, 5, 10)\n",
    "v3 = np.linspace(0, 2, 10)\n",
    "M = np.array([[1, 2, 3], [4, 5, 6], [7, 8, 9]])\n",
    "print(v0)\n",
    "print(v1)\n",
    "print(v2)\n",
    "print(v3)\n",
    "print(M)"
   ]
  },
  {
   "cell_type": "markdown",
   "metadata": {
    "id": "dWxh4ue5yAtX"
   },
   "source": [
    "## Basic operations"
   ]
  },
  {
   "cell_type": "code",
   "execution_count": 4,
   "metadata": {
    "id": "eCzIqJMHyAtY",
    "outputId": "c9191554-11e6-4aa2-e806-031e100c79e9"
   },
   "outputs": [
    {
     "name": "stdout",
     "output_type": "stream",
     "text": [
      "Sum of v0 components: 6\n",
      "Average value in M: 5.0\n",
      "Scalar product of v2 and v3: 35.18518518518518\n"
     ]
    }
   ],
   "source": [
    "s = np.sum(v0)\n",
    "m = np.mean(M)\n",
    "p = np.dot(v2, v3)\n",
    "print(\"Sum of v0 components:\", s)\n",
    "print(\"Average value in M:\", m)\n",
    "print(\"Scalar product of v2 and v3:\", p)"
   ]
  },
  {
   "cell_type": "markdown",
   "metadata": {
    "id": "8j2Vp3f6yAtY"
   },
   "source": [
    "We encourage you to consult the official `NumPy` documentation to explore its many features: _https://numpy.org/doc/stable/_.\n",
    "A larger introduction to `NumPy` and `MatPlotLib` is available in the $5^{\\text{th}}$ practical of the course INFO-F305 - Modélisation et Simulation.\n",
    "\n",
    "## 2. Introduction to the `numpy.random` module\n",
    "The `NumPy` library includes a `numpy.random` submodule dedicated to random number generation. This module offers:\n",
    "- Random number generators for various distributions (uniform, normal, binomial, etc.).\n",
    "- Tools for drawing samples and manipulating random sequences.\n",
    "\n",
    "### Reproducibility of results\n",
    "To ensure the reproducibility of simulations, it is crucial to set a random seed.\n",
    "\n",
    "Example:"
   ]
  },
  {
   "cell_type": "code",
   "execution_count": 5,
   "metadata": {
    "id": "tkB2B836yAtZ",
    "outputId": "decb8291-e676-4e92-aa59-c91e15ca8226"
   },
   "outputs": [
    {
     "name": "stdout",
     "output_type": "stream",
     "text": [
      "[0.37454012 0.95071431 0.73199394 0.59865848 0.15601864]\n"
     ]
    }
   ],
   "source": [
    "np.random.seed(42)\n",
    "values = np.random.rand(5)\n",
    "print(values)"
   ]
  },
  {
   "cell_type": "markdown",
   "metadata": {
    "id": "FdTxYpBpyAtZ"
   },
   "source": [
    "### Available distributions\n",
    "Here are some common distributions:\n",
    "- `numpy.random.uniform(low, high, size)` : Uniform distribution.\n",
    "- `numpy.random.normal(loc, scale, size)` : Normal (Gaussian) distribution.\n",
    "- `numpy.random.binomial(n, p, size)` : Binomial distribution.\n",
    "\n",
    "### Sampling\n",
    "Sampling is the process of randomly selecting elements from a population. For example:"
   ]
  },
  {
   "cell_type": "code",
   "execution_count": 6,
   "metadata": {
    "id": "Uf1MnEx-yAtZ",
    "outputId": "95544946-75f3-4e5e-8d75-2230dc2e2989"
   },
   "outputs": [
    {
     "name": "stdout",
     "output_type": "stream",
     "text": [
      "[[3 3 3]\n",
      " [5 4 3]\n",
      " [5 2 4]]\n"
     ]
    }
   ],
   "source": [
    "population = np.array([1, 2, 3, 4, 5])\n",
    "sample = np.random.choice(population, size=(3, 3), replace=True)\n",
    "print(sample)"
   ]
  },
  {
   "cell_type": "markdown",
   "metadata": {},
   "source": [
    "### Statistical analysis\n",
    "`Scipy` offers tools to analyse statistical distributions. As an example, if wan to get density, repartition function and quantiles of a normal distribution $\\mathcal{N}(0, 1)$:"
   ]
  },
  {
   "cell_type": "code",
   "execution_count": 7,
   "metadata": {},
   "outputs": [],
   "source": [
    "import scipy as sp"
   ]
  },
  {
   "cell_type": "markdown",
   "metadata": {},
   "source": [
    "The probability density function of a normal distribution is given by $$f(x) = \\frac{(\\frac{e^{\\frac{-(x-\\mu)^2}{2}}}{\\sqrt{2\\pi}})}{\\sigma}$$\n",
    "for $\\mu$ and $\\sigma$ the mean and the standard deviation of the distribution."
   ]
  },
  {
   "cell_type": "code",
   "execution_count": 8,
   "metadata": {},
   "outputs": [
    {
     "name": "stdout",
     "output_type": "stream",
     "text": [
      "0.24197072451914337\n"
     ]
    }
   ],
   "source": [
    "mu, sigma = 0, 1\n",
    "print(sp.stats.norm.pdf(1, loc=mu, scale=sigma))"
   ]
  },
  {
   "cell_type": "markdown",
   "metadata": {},
   "source": [
    "The quantiles can be obtained using the `ppf` function:"
   ]
  },
  {
   "cell_type": "code",
   "execution_count": 9,
   "metadata": {},
   "outputs": [
    {
     "name": "stdout",
     "output_type": "stream",
     "text": [
      "0.6744897501960817\n"
     ]
    }
   ],
   "source": [
    "print(sp.stats.norm.ppf(0.75, loc=mu, scale=sigma))"
   ]
  },
  {
   "cell_type": "markdown",
   "metadata": {},
   "source": [
    "Finally, the cumulative distribution function can be obtained with `cdf`:"
   ]
  },
  {
   "cell_type": "code",
   "execution_count": 10,
   "metadata": {},
   "outputs": [
    {
     "name": "stdout",
     "output_type": "stream",
     "text": [
      "0.6914624612740131\n"
     ]
    }
   ],
   "source": [
    "print(sp.stats.norm.cdf(0.5, loc=mu, scale=sigma))"
   ]
  },
  {
   "cell_type": "markdown",
   "metadata": {},
   "source": [
    "### Exercise\n",
    "Using the previous `pdf` function, plot the histogram of a sampled normal $\\mathcal{N}(0, 1)$ and check that it behaves as the analytical probability density function. Show on the same graph the three quarter quantiles (0.25, 0.5, 0.75)."
   ]
  },
  {
   "cell_type": "code",
   "execution_count": 11,
   "metadata": {
    "id": "pxFYOGFiyAtZ"
   },
   "outputs": [],
   "source": [
    "import matplotlib.pyplot as plt"
   ]
  },
  {
   "cell_type": "markdown",
   "metadata": {
    "id": "qvDkinRMyAtZ"
   },
   "source": [
    "# 3. Monte Carlo Simulation\n",
    "Monte Carlo simulations are a class of numerical techniques based on the random generation of samples to solve mathematical or physical problems. They are particularly useful for:\n",
    "- Estimating complex integrals.\n",
    "- Solving problems in statistical physics.\n",
    "- Analyzing complex probabilistic systems."
   ]
  },
  {
   "cell_type": "markdown",
   "metadata": {
    "id": "If0q-0gwFJLz"
   },
   "source": [
    "# 4. Exercises\n",
    "1. Implement a Monte Carlo simulation to estimate the integral of the function $f(x) = x^2$ over the interval $[0, 1]$.\n",
    "2. Use a normal distribution to model a random variable, with parameters $\\mu = 0$ and $\\sigma = \\frac12$ and calculate the probability that it takes a value in the interval $[-0.25, 0.25]$.\n",
    "3. Use Monte Carlo simulation to approximate numerically the mean of a Normal r.v. ${\\mathbf z} \\sim N(\\mu,\\sigma^2)$ and of the variable ${\\mathbf y}= {\\mathbf z}^2$. Verify that MC returns a good approximation of the analytical result. As a hint, note that $\\mbox{Var}[{\\mathbf z}]=E[{\\mathbf z}^2]-E[{\\mathbf z}]^2$\n",
    "4. Use MC to approximate numerically the value of $E[f({\\mathbf x})]$ and $f(E[{\\mathbf x}])$ for a given deterministic function $f$, where ${\\mathbf x}$ is a Normal variable.\n",
    "5. Use MC to approximate numerically the value of the variance $\\mbox{Var}[{\\mathbf z}]$ where ${\\mathbf z} \\sim U(a,b)$ is Uniformly distributed . Check that the result is a good approximation of the analytical value.\n",
    "6. Use MC to approximate the value of the Covariance of ${\\mathbf x}$ and ${\\mathbf y}=K{\\mathbf x}$ and verify that the result is a good approximation of the analytical derivation. Check for different distributions of ${\\mathbf x}$. As a hint, note $\\mbox{Cov}({\\mathbf x},{\\mathbf y})=E[{\\mathbf x}{\\mathbf y}]-K E[{\\mathbf x}]E[{\\mathbf x}]=E[K*{\\mathbf x}^2]-K(E[{\\mathbf x}]^2)=K(\\mbox{Var}({\\mathbf x})+E[{\\mathbf x}]^2)-K (E[{\\mathbf x}])^2= K\\mbox{Var}({\\mathbf x})$"
   ]
  },
  {
   "cell_type": "markdown",
   "metadata": {},
   "source": [
    "## Multivariate Gaussian distributions\n",
    "Multivariate Gaussian distributions are multidimensional generalizations of the normal distribution (that you already know well).\n",
    "They can be described by mean vector $\\mu$ and a covariance matrix $\\Sigma$, which shows the covariance between each of the distribution's dimensions. As an example, if this matrix is diagonal, the variables corresponding to each dimension are independant. In the same way, this matrix has to be diagonal (can you tell why ?).\n",
    "### Exercise 1: 2D Monte Carlo Simulation\n",
    "Use MC simulation approximate the mean and covairance of 2-dimensional Gaussian random data with the following parameters:\n",
    "\n",
    "- Mean vector: [2, 3]\n",
    "- Covariance matrix: [[2, 0.8], [0.8, 1]]\n",
    "  \n",
    "Visualize the used data as a scatter plot. Compare the sample mean and the given mean vector.\n",
    "Hint: use `scipy.stats.multivariate_normal` for generation and numpy to calculate the sample mean, and use `numpy.cov` for covariance estimation. \n",
    "Ensure you understand the difference between population and sample covariance.\n",
    "\n",
    "### Exercise 2\n",
    "We define a bivariate gaussian distribution $(Z_1, Z_2)$ with the following parameters:\n",
    "- Mean vector: [0.25, 1.0]\n",
    "- Covariance matrix: [[1.0, 0.5], [0.5, 1.0]]\n",
    "\n",
    "Plot the regressions of $Z_1|Z_2$ and $Z_2|Z_1$. What is their intersection ? Hint: those are given by expressing $Z_1$ in terms of $Z_2$ (or the opposite): $Z_1 = a_1 + b_1Z_2$. \n",
    "\n",
    "### Exercise 3: 3D Monte Carlo Simulation\n",
    "Finally, generate 1000 samples of 3-dimensional Gaussian random data with the following parameters:\n",
    "\n",
    "- Mean vector: [1, 4, 7]\n",
    "- Covariance matrix:[[3, 1.5, 0.8], [1.5, 2, 0.5], [0.8, 0.5, 1]]\n",
    "\n",
    "Estimate the covariance matrix using the generated data. Visualize the pairwise scatter plots of the dimensions (use a scatter plot matrix).\n",
    "Hints: use `pandas.plotting.scatter_matrix` or `seaborn.pairplot` for visualization.\n",
    "Pay attention to the interpretation of correlations between dimensions.\n",
    "\n",
    "### Exercise 4: Partial correlation\n",
    "Given two normal $\\mathcal{N}(0, 1)$ r.v. $Z_1, Z_2$ and a third r.v. $Y = Z_1 + Z_2$, compute the correlation between $Z_1$ and $Z_2$, then compute the partial correlation between $Z_1$ and $Z_2$ given $Y$. Hint: use the function `corrcoef` of `Numpy` to compute the correlation coefficients. What happens to the partial correlation between $Z_1$ and $Z_2$ given $Y$ if now  $Y = Z_1 + Z_2 + Z_3$, for $Z_3$ another $\\mathcal{N}(0, 1)$ r.v. ?"
   ]
  },
  {
   "cell_type": "code",
   "execution_count": null,
   "metadata": {},
   "outputs": [],
   "source": []
  }
 ],
 "metadata": {
  "colab": {
   "provenance": []
  },
  "kernelspec": {
   "display_name": "Python 3 (ipykernel)",
   "language": "python",
   "name": "python3"
  },
  "language_info": {
   "codemirror_mode": {
    "name": "ipython",
    "version": 3
   },
   "file_extension": ".py",
   "mimetype": "text/x-python",
   "name": "python",
   "nbconvert_exporter": "python",
   "pygments_lexer": "ipython3",
   "version": "3.11.6"
  }
 },
 "nbformat": 4,
 "nbformat_minor": 4
}
