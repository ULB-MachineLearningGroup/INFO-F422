{
 "cells": [
  {
   "cell_type": "markdown",
   "metadata": {
    "colab_type": "text",
    "id": "view-in-github"
   },
   "source": [
    "<a href=\"https://colab.research.google.com/github/gmpal/INFOF422_2025/blob/main/Schedule.ipynb\" target=\"_parent\"><img src=\"https://colab.research.google.com/assets/colab-badge.svg\" alt=\"Open In Colab\"/></a>"
   ]
  },
  {
   "cell_type": "code",
   "execution_count": null,
   "metadata": {
    "id": "m34xFVon9YqI"
   },
   "outputs": [],
   "source": []
  },
  {
   "cell_type": "markdown",
   "metadata": {
    "id": "1mYOanqF9aAj"
   },
   "source": [
    "## 13/2/25 TP1 (Pascal): Python basics, probability and MC\n",
    "\n",
    "*   remove basic language\n",
    "*   add some probability exercises\n",
    "* Monte Carlo simulation\n",
    "* test probabilistic relationships in Gaussian distributions:\n",
    "\n",
    "  $P(\\mu-3 \\sigma \\le {\\mathbf z} \\le \\mu+3 \\sigma)$\n",
    "\n",
    "* Bivariate and multivariate Gaussian\n",
    "\n",
    "\n",
    "\n",
    "\n",
    "## 27/2/25 TP2 (Gian Marco): multivariate linear models\n",
    "- no univariate regression: start with multivariate regression\n",
    "- multivariate regression with transformation of inputs\n",
    "- tests residuals\n",
    "- RBF\n",
    "- ridge regression\n",
    "\n",
    "\n",
    "\n",
    "## 13/3/25 TP3 (Cedric): introduction to supervised learning\n",
    "- preprocessing, normalisation, removal NA\n",
    "- nearest neighbour (implementation)\n",
    "- sklearn:\n",
    "  * regression trees\n",
    "  * random forests\n",
    "- sklearn pipeline\n",
    "\n",
    "\n",
    "## 20/3/2025 TP4 (Cedric) neural network with Pytorch\n",
    "\n",
    "- tensors and tensors operations\n",
    "- model as computation graph \n",
  "- gradients and autograd \n",
  "- Datasets and dataloader  \n",
"- Training a MLP  \n",
    "\n",
    "## 27/3/2025 TP5 feature selection\n",
    "- PCA\n",
    "- ranking\n",
    "- mRMR\n",
    "- wrapper\n",
    "\n",
    "## 3/4/25 TP6 classification\n",
    " - Cross-entropy notions \n",
    "- Notions precision/recall/TPR/TPN\n",
    "- ROC curve\n",
    "- multiclass\n",
    "- ensemble\n",
    "\n",
    "\n"
   ]
  }
 ],
 "metadata": {
  "colab": {
   "authorship_tag": "ABX9TyMkWcBUPVSuZ7EplXYg8PkD",
   "include_colab_link": true,
   "provenance": []
  },
  "kernelspec": {
   "display_name": "Python 3",
   "name": "python3"
  },
  "language_info": {
   "name": "python"
  }
 },
 "nbformat": 4,
 "nbformat_minor": 0
}
