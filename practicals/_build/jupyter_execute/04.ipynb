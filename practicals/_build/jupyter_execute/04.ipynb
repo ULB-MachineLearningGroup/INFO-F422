{
 "cells": [
  {
   "cell_type": "markdown",
   "id": "d238e73e",
   "metadata": {},
   "source": [
    "# Neural Networks for Regression\n",
    "## Introduction to Neural Networks\n",
    "This part of the introduction summarizes the key theoretical concepts for **Neural Networks for Regression**, building on Chapter 8 of the handbook (pp. 189–199)."
   ]
  },
  {
   "cell_type": "code",
   "execution_count": 1,
   "id": "773b8e57-141a-4dae-9085-5825262337cf",
   "metadata": {},
   "outputs": [],
   "source": [
    "#!pip install torch torchsummary"
   ]
  },
  {
   "cell_type": "markdown",
   "id": "290d7f6e-326f-4804-aa98-fd1acbdb81bf",
   "metadata": {},
   "source": [
    "Let us define some basic imports and a `pprint` function."
   ]
  },
  {
   "cell_type": "code",
   "execution_count": 2,
   "id": "327dd304-72ce-44ca-a4ae-74330d865adf",
   "metadata": {},
   "outputs": [],
   "source": [
    "import numpy as np\n",
    "import torch\n",
    "from IPython.display import display, Math\n",
    "from numpyarray_to_latex.jupyter import to_ltx\n",
    "import matplotlib.pyplot as plt\n",
    "plt.style.use(['seaborn-v0_8-muted', 'practicals.mplstyle'])\n",
    "def pprint(*args):\n",
    "    res = \"\"\n",
    "    for i in args:\n",
    "        if type(i) == np.ndarray:\n",
    "            res += to_ltx(i, brackets='[]')\n",
    "        elif type(i) == torch.Tensor:\n",
    "            res += to_ltx(i.detach().cpu().numpy(), brackets='[]',)\n",
    "        elif type(i) == str:\n",
    "            res += i\n",
    "    display(Math(res))"
   ]
  },
  {
   "cell_type": "markdown",
   "id": "79ac9545",
   "metadata": {},
   "source": [
    "### Data Preprocessing for Neural Networks\n",
    "#### Normalization and Standardization\n",
    "\n",
    "**Motivation**:\n",
    "Gradient-based optimization of neural networks often becomes unstable if different features vary widely in scale. Hence, **Sec. 8.1** of the handbook (and earlier practicals) reiterate that scaling inputs to zero mean and unit variance—or to a small bounded range—is essential. This ensures the gradients have more balanced magnitudes across parameters, which helps the optimizer converge more reliably.\n",
    "\n",
    "**Typical Steps**:\n",
    "1. Compute the empirical mean and standard deviation of each input dimension:\n",
    "\n",
    "$$\n",
    "\\mu_j = \\frac{1}{N} \\sum_{i=1}^N x_{ij}, \\quad\n",
    "\\sigma_j = \\sqrt{\\frac{1}{N}\\sum_{i=1}^N (x_{ij}-\\mu_j)^2}.\n",
    "$$\n",
    "\n",
    "2. Transform (standardise) the data as\n",
    "\n",
    "$$\n",
    "x_{ij}^{(std)} = \\frac{x_{ij} - \\mu_j}{\\sigma_j}.\n",
    "$$\n",
    "\n",
    "3. Use the same $\\mu_j$ and $\\sigma_j$ for the validation and test sets to maintain consistency.\n",
    "\n",
    "#### Input Data Shaping\n",
    "- **For MLPs**: Usually arrange training data into a matrix of shape $(\\text{batch}, n)$, where $n$ is the number of input features.\n",
    "- **For CNNs**: Reshape data into a 4D tensor of shape $(\\text{batch}, \\text{channels}, \\text{height}, \\text{width})$. Convolutional layers exploit the spatial dimensions for images or other grid-like inputs."
   ]
  },
  {
   "cell_type": "markdown",
   "id": "cc17de54-70f2-4418-a8b2-ad1233cab638",
   "metadata": {},
   "source": [
    "```python\n",
    "import torch\n",
    "\n",
    "# Suppose X_train is shape (N, n) for an MLP:\n",
    "N, n = 1000, 10\n",
    "X_train = torch.randn(N, n)\n",
    "X_val = torch.randn(N//5, n)\n",
    "X_test = torch.randn(N//5, n)\n",
    "\n",
    "mean = X_train.mean(dim=0)\n",
    "std  = X_train.std(dim=0)\n",
    "\n",
    "X_train = (X_train - mean) / std\n",
    "X_val   = (X_val - mean) / std\n",
    "X_test  = (X_test - mean) / std\n",
    "\n",
    "# For CNN input, if needed:\n",
    "H, W = 28, 28  # e.g., image dimension\n",
    "# Reshape to (N, 1, H, W) for single-channel images:\n",
    "X_train_cnn = X_train.view(N, 1, H, W)\n",
    "X_val_cnn   = X_val.view(N//5, 1, H, W)\n",
    "X_test_cnn  = X_test.view(N//5, 1, H, W)\n",
    "```"
   ]
  },
  {
   "cell_type": "markdown",
   "id": "41208dac",
   "metadata": {},
   "source": [
    "### Feed-Forward Neural Networks (MLPs)\n",
    "\n",
    "#### Architecture and Notation\n",
    "\n",
    "An MLP (multi-layer perceptron, or feed-forward network) with $L$ layers (including hidden and output layers) maps an input vector $\\mathbf{x}\\in\\mathbb{R}^n$ to an output (for regression, typically $\\hat{y}\\in\\mathbb{R}$ or $\\mathbb{R}^m$) through successive affine transformations and nonlinear activations. In the notation of **Eqs. $(8.1.2)$–$(8.1.5)$**:\n",
    "\n",
    "1. **Layer 1**:\n",
    "\n",
    "$$\n",
    "A^{(1)} = Z^{(0)} W^{(1)} + b^{(1)},\\quad Z^{(1)} = g^{(1)}(A^{(1)}),\n",
    "$$\n",
    "where $Z^{(0)} = \\mathbf{x}$ is the input and $W^{(1)}$ is an $(n \\times h_1)$ weight matrix if the first hidden layer has $h_1$ units.\n",
    "\n",
    "2. **Layer 2** (or subsequent hidden layers):\n",
    "\n",
    "$$\n",
    "A^{(2)} = Z^{(1)} W^{(2)} + b^{(2)},\\quad Z^{(2)} = g^{(2)}(A^{(2)}),\n",
    "$$\n",
    "continuing similarly up to layer $L-1$.\n",
    "\n",
    "3. **Output Layer** ($l=L$):\n",
    "For regression with a linear output,\n",
    "\n",
    "$$\n",
    "A^{(L)} = Z^{(L-1)} W^{(L)} + b^{(L)},\\quad Z^{(L)} = A^{(L)}.\n",
    "$$\n",
    "\n",
    "If the output dimension is 1, $W^{(L)}$ is $(h_{L-1} \\times 1)$. For vector outputs, adjust accordingly.\n",
    "\n",
    "#### Activation Functions\n",
    "\n",
    "Nonlinearities $g^{(l)}(\\cdot)$ are critical. Common examples in the course:\n",
    "- **Sigmoid**: $\\sigma(z)=1/(1+e^{-z})$, which saturates for large $|z|$.\n",
    "- **Tanh**: $\\tanh(z)\\in(-1,1)$, similar saturation behavior.\n",
    "- **ReLU**: $\\max(0,z)$, which alleviates vanishing gradients on the positive side and is widely used in deep networks.\n",
    "\n",
    "Without a nonlinear $g^{(l)}$, the stacked linear transformations collapse to an effective single linear mapping. Nonlinearity ensures the network can approximate complex functions (Universal Approximation property)."
   ]
  },
  {
   "cell_type": "markdown",
   "id": "10e506f0",
   "metadata": {},
   "source": [
    "### Cost function and matrix-based Back-Propagation\n",
    "\n",
    "#### Sum of Squared Errors (SSE)\n",
    "\n",
    "For regression tasks, the *empirical sum of squared errors*:\n",
    "\n",
    "$$\n",
    "\\mathrm{SSE}_{\\mathrm{emp}}(\\alpha_N) = \\sum_{i=1}^N (y_i - \\hat{y}(x_i))^2,\n",
    "$$\n",
    "\n",
    "where $\\hat{y}(x_i)$ is the network’s prediction for input $x_i$, and $y_i$ is the true target. The parameter vector $\\alpha_N$ includes $\\{W^{(l)}, b^{(l)}\\}$ for $l=1,\\ldots,L$.\n",
    "\n",
    "#### Gradient Descent Update\n",
    "\n",
    "Using the notation from **Algorithm 2 (p. 194)**, we iteratively update each parameter in the direction that reduces the SSE cost:\n",
    "\n",
    "$$\n",
    "\\alpha_N(k+1) = \\alpha_N(k) - \\eta\\, \\frac{\\partial\\,\\mathrm{SSE}_{\\mathrm{emp}}}{\\partial\\,\\alpha_N}(k),\n",
    "$$\n",
    "\n",
    "where $\\eta$ is the learning rate.\n",
    "\n",
    "#### Back-Propagation (Algorithm 2)\n",
    "\n",
    "Back-propagation is the application of the chain rule to compute $\\nabla \\mathrm{SSE}_{\\mathrm{emp}}$ with respect to each weight matrix $W^{(l)}$ and bias $b^{(l)}$.\n",
    "\n",
    "1. **Output-Layer Delta**:\n",
    "\n",
    "$$\n",
    "\\delta^{(L)} = \\frac{\\partial\\,\\mathrm{SSE}_{\\mathrm{emp}}}{\\partial\\,A^{(L)}} \\odot g'^{(L)}(A^{(L)}).\n",
    "$$\n",
    "\n",
    "- In linear output regression, $g'^{(L)}(\\cdot) = 1$, and the cost derivative is $\\delta^{(L)} = (\\hat{y}-y).$\n",
    "\n",
    "2. **Backward Recursion**:\n",
    "\n",
    "$$\n",
    "\\delta^{(l)} = \\bigl(W^{(l+1)} \\delta^{(l+1)}\\bigr) \\odot g'^{(l)}(A^{(l)}), \\quad l = L-1,\\ldots,1.\n",
    "$$\n",
    "\n",
    "This “error” $\\delta^{(l)}$ is used to compute partial derivatives for $W^{(l)}$ and $b^{(l)}$.\n",
    "\n",
    "3. **Gradient w.r.t. the weights**:\n",
    "\n",
    "$$\n",
    "\\frac{\\partial\\,\\mathrm{SSE}_{\\mathrm{emp}}}{\\partial\\,W^{(l)}} = (Z^{(l-1)})^\\top \\,\\delta^{(l)},\\quad\n",
    "\\frac{\\partial\\,\\mathrm{SSE}_{\\mathrm{emp}}}{\\partial\\,b^{(l)}} = \\sum_{i=1}^{N} \\delta^{(l)}_i.\n",
    "$$\n",
    "\n",
    "using the matrix-based form."
   ]
  },
  {
   "cell_type": "code",
   "execution_count": 3,
   "id": "599ac4b3",
   "metadata": {},
   "outputs": [],
   "source": [
    "import torch.nn as nn\n",
    "\n",
    "class Simple2LayerMLP(nn.Module):\n",
    "    def __init__(self, input_dim, hidden_dim, output_dim=1):\n",
    "        super().__init__()\n",
    "        self.fc1 = nn.Linear(input_dim, hidden_dim)\n",
    "        self.fc2 = nn.Linear(hidden_dim, output_dim)\n",
    "\n",
    "    def forward(self, x):\n",
    "        x = self.fc1(x)\n",
    "        x = torch.relu(x)  # ReLU activation\n",
    "        x = self.fc2(x)    # linear output for regression\n",
    "        return x\n",
    "\n",
    "# Instantiate the network and define SSE-like loss\n",
    "model = Simple2LayerMLP(input_dim=10, hidden_dim=15, output_dim=1)\n",
    "criterion = nn.MSELoss(reduction='sum')  # SSE (sum of squared errors)\n",
    "eta = 1e-2\n",
    "\n",
    "# Dummy data\n",
    "X_sample = torch.randn(5, 10)\n",
    "y_sample = torch.randn(5, 1)\n",
    "\n",
    "y_pred = model(X_sample)\n",
    "loss = criterion(y_pred, y_sample)\n",
    "\n",
    "# Backpropagate\n",
    "loss.backward()\n",
    "\n",
    "# Gradient descent step\n",
    "with torch.no_grad():\n",
    "    for param in model.parameters():\n",
    "        param -= eta * param.grad\n",
    "        param.grad.zero_()"
   ]
  },
  {
   "cell_type": "markdown",
   "id": "ed85fa46",
   "metadata": {},
   "source": [
    "### Convolutional Neural Networks (CNNs)\n",
    "\n",
    "Though the practical focuses on regression, CNNs (p. 198–199) illustrate deep architectures that handle grid-structured data (e.g., images). Main ideas:\n",
    "1. **Local Connectivity**: Each neuron in a convolutional layer only connects to a local patch of the input.\n",
    "2. **Shared Weights**: A small kernel (filter) is “convolved” across the entire image or feature map.\n",
    "3. **Translation Equivariance**: The same filter is applied at all spatial locations.\n",
    "\n",
    "#### Convolution Operation\n",
    "A single 2D filter:\n",
    "\n",
    "$$\n",
    "y_{ij} = \\sum_{m=1}^{k_h} \\sum_{n=1}^{k_w} W_{mn} x_{(i + m - 1, j + n - 1)} + b,\n",
    "$$\n",
    "\n",
    "where $(k_h, k_w)$ is the kernel size. ReLU or another activation is then applied.\n",
    "\n",
    "#### Pooling Layers\n",
    "Often, a **pooling** layer follows one or more convolutional layers to reduce the spatial resolution. For instance, **max pooling** with a $2\\times2$ window and stride 2 halves the height and width."
   ]
  },
  {
   "cell_type": "markdown",
   "id": "fbe4e29c",
   "metadata": {},
   "source": [
    "### Overfitting and Cross-Validation\n",
    "\n",
    "#### Overfitting Phenomenon\n",
    "\n",
    "In the handbook’s example on **p. 197**, a network with 15 hidden units achieves extremely low training SSE but high test SSE, illustrating **overfitting**. Overfitting arises when a model fits training data “too well,” capturing noise rather than the underlying trend.\n",
    "\n",
    "#### Detection and Mitigation\n",
    "- **Validation Set**: Split data into training and validation. Monitor the validation error (e.g., MSE). If it increases while training error decreases, the model is overfitting.\n",
    "- **Cross-Validation**: Alternatively, use $k$-fold cross-validation.\n",
    "- **Regularization**:\n",
    "  - **Dropout**: Temporarily “drop” a fraction of hidden units during training.\n",
    "  - **Weight Decay (L2)**: Penalizes large weights.\n",
    "  - **Early Stopping**: Halt training when validation performance stops improving."
   ]
  },
  {
   "cell_type": "markdown",
   "id": "3549c899",
   "metadata": {},
   "source": [
    "### Practical Aspects: Model Saving and Loading in PyTorch\n",
    "\n",
    "For safe and reproducible experiments, one typically needs to **save**:\n",
    "1. **Model Weights (state_dict)**: The learned parameters $\\{W^{(l)},b^{(l)}\\}$.\n",
    "2. **Optimizer State (if resuming)**: Internal states like momentum buffers in gradient-based optimizers.\n",
    "\n",
    "A typical code pattern:"
   ]
  },
  {
   "cell_type": "code",
   "execution_count": 4,
   "id": "b0b53079",
   "metadata": {},
   "outputs": [],
   "source": [
    "import torch.optim as optim\n",
    "\n",
    "model = Simple2LayerMLP(10, 15, 1)\n",
    "optimizer = optim.SGD(model.parameters(), lr=0.01)\n",
    "\n",
    "# Training... then save checkpoint\n",
    "torch.save({\n",
    "    'model_state_dict': model.state_dict(),\n",
    "    'optimizer_state_dict': optimizer.state_dict(),\n",
    "    'epoch': 10\n",
    "}, \"checkpoint.pth\")\n",
    "\n",
    "# Later, to resume\n",
    "checkpoint = torch.load(\"checkpoint.pth\", weights_only=False)\n",
    "model.load_state_dict(checkpoint['model_state_dict'])\n",
    "optimizer.load_state_dict(checkpoint['optimizer_state_dict'])\n",
    "start_epoch = checkpoint['epoch'] + 1\n",
    "\n",
    "# For inference, only model_state_dict is strictly required."
   ]
  },
  {
   "cell_type": "markdown",
   "id": "e5de37b8",
   "metadata": {},
   "source": [
    "### Complete example of a CNN for Regression\n",
    "Below is a more detailed illustration of an implementation of a CNN in PyTorch for regression highlighting many of the points presented above:"
   ]
  },
  {
   "cell_type": "code",
   "execution_count": 5,
   "id": "2c9c5047",
   "metadata": {},
   "outputs": [
    {
     "name": "stdout",
     "output_type": "stream",
     "text": [
      "Epoch [1/20]  Train MSE: 1.0996  Val MSE: 1.0189\n",
      "  Best model saved (improved validation MSE).\n"
     ]
    },
    {
     "name": "stdout",
     "output_type": "stream",
     "text": [
      "Epoch [2/20]  Train MSE: 1.0644  Val MSE: 1.0106\n",
      "  Best model saved (improved validation MSE).\n"
     ]
    },
    {
     "name": "stdout",
     "output_type": "stream",
     "text": [
      "Epoch [3/20]  Train MSE: 1.0591  Val MSE: 1.0120\n"
     ]
    },
    {
     "name": "stdout",
     "output_type": "stream",
     "text": [
      "Epoch [4/20]  Train MSE: 1.0500  Val MSE: 1.0209\n"
     ]
    },
    {
     "name": "stdout",
     "output_type": "stream",
     "text": [
      "Epoch [5/20]  Train MSE: 1.0298  Val MSE: 0.9982\n",
      "  Best model saved (improved validation MSE).\n"
     ]
    },
    {
     "name": "stdout",
     "output_type": "stream",
     "text": [
      "Epoch [6/20]  Train MSE: 1.0053  Val MSE: 0.9998\n"
     ]
    },
    {
     "name": "stdout",
     "output_type": "stream",
     "text": [
      "Epoch [7/20]  Train MSE: 0.9564  Val MSE: 0.9923\n",
      "  Best model saved (improved validation MSE).\n"
     ]
    },
    {
     "name": "stdout",
     "output_type": "stream",
     "text": [
      "Epoch [8/20]  Train MSE: 0.9213  Val MSE: 1.0034\n"
     ]
    },
    {
     "name": "stdout",
     "output_type": "stream",
     "text": [
      "Epoch [9/20]  Train MSE: 0.8346  Val MSE: 1.0201\n"
     ]
    },
    {
     "name": "stdout",
     "output_type": "stream",
     "text": [
      "Epoch [10/20]  Train MSE: 0.7552  Val MSE: 1.0339\n",
      "Early stopping triggered (no improvement).\n",
      "\n",
      "Training complete. Loading best model for final checks.\n",
      "Final validation MSE (best model): 0.9923\n"
     ]
    }
   ],
   "source": [
    "import torch.nn.functional as F\n",
    "from torch.utils.data import Dataset, DataLoader, TensorDataset\n",
    "\n",
    "# This CNN will perform a regression task (e.g., predicting a real-valued output from an image).\n",
    "# We'll use two convolution layers (with 2x2 max pooling after each), then two fully-connected layers,\n",
    "# include dropout with probability=0.25, and weight decay in the optimizer for regularization.\n",
    "\n",
    "class SimpleCNNRegression(nn.Module):\n",
    "    def __init__(self):\n",
    "        super().__init__()\n",
    "        \n",
    "        # First convolution\n",
    "        self.conv1 = nn.Conv2d(in_channels=1, out_channels=8, kernel_size=3, padding=1)\n",
    "        \n",
    "        # Second convolution\n",
    "        self.conv2 = nn.Conv2d(in_channels=8, out_channels=16, kernel_size=3, padding=1)\n",
    "        \n",
    "        # After two 2x2 pools on a 28x28 input, the spatial dimension goes 28->14->7\n",
    "        # => final feature map is 16 x 7 x 7 = 16*7*7 = 784\n",
    "        self.fc1   = nn.Linear(16 * 7 * 7, 64)  \n",
    "        self.fc2   = nn.Linear(64, 1)          # single output for regression\n",
    "        \n",
    "        # Dropout layer to help regularize the fully connected part\n",
    "        self.dropout = nn.Dropout(p=0.25)\n",
    "        \n",
    "        # MaxPool layer (2x2) used after each convolution\n",
    "        self.pool   = nn.MaxPool2d(kernel_size=2, stride=2)\n",
    "\n",
    "    def forward(self, x):\n",
    "        # First conv: conv1 -> ReLU -> pool => shape: (N, 8, 14, 14)\n",
    "        x = self.conv1(x)        \n",
    "        x = F.relu(x)\n",
    "        x = self.pool(x)\n",
    "        \n",
    "        # Second conv: conv2 -> ReLU -> pool => shape: (N, 16, 7, 7)\n",
    "        x = self.conv2(x)        \n",
    "        x = F.relu(x)\n",
    "        x = self.pool(x)\n",
    "        \n",
    "        # Flatten => shape: (N, 16*7*7 = 784)\n",
    "        x = x.view(x.size(0), -1)\n",
    "        \n",
    "        # First fully connected => ReLU => Dropout => shape: (N, 64)\n",
    "        x = self.fc1(x)\n",
    "        x = F.relu(x)\n",
    "        x = self.dropout(x)\n",
    "        \n",
    "        # Final fully connected => shape: (N, 1)\n",
    "        x = self.fc2(x)\n",
    "        return x\n",
    "\n",
    "# We'll create some dummy data for regression:\n",
    "# - Shape of X: (N, 1, 28, 28)\n",
    "# - Shape of y: (N, 1) containing continuous values\n",
    "N_train = 1000\n",
    "N_val   = 200\n",
    "X_train = torch.randn(N_train, 1, 28, 28)\n",
    "y_train = torch.randn(N_train, 1)  # random continuous targets\n",
    "X_val   = torch.randn(N_val, 1, 28, 28)\n",
    "y_val   = torch.randn(N_val, 1)\n",
    "\n",
    "# We'll wrap the data in TensorDatasets and DataLoaders for batching\n",
    "train_dataset = TensorDataset(X_train, y_train)\n",
    "val_dataset   = TensorDataset(X_val, y_val)\n",
    "batch_size    = 50\n",
    "train_loader  = DataLoader(train_dataset, batch_size=batch_size, shuffle=True)\n",
    "val_loader    = DataLoader(val_dataset,   batch_size=batch_size, shuffle=False)\n",
    "\n",
    "# Instantiate our CNN model\n",
    "model = SimpleCNNRegression()\n",
    "\n",
    "# We'll use MSELoss for this regression task\n",
    "criterion = nn.MSELoss()\n",
    "\n",
    "# We'll use Adam optimizer with weight decay for L2 regularization\n",
    "optimizer = optim.Adam(model.parameters(), lr=0.001, weight_decay=1e-4)\n",
    "\n",
    "# Setup for training with early stopping\n",
    "max_epochs         = 20\n",
    "patience           = 3  # number of epochs with no improvement allowed\n",
    "best_val_loss      = float('inf')\n",
    "epochs_no_improve  = 0\n",
    "best_model_path    = \"best_model.pth\"\n",
    "\n",
    "for epoch in range(max_epochs):\n",
    "    # Train mode: enables dropout, etc.\n",
    "    model.train()\n",
    "    running_train_loss = 0.0\n",
    "    \n",
    "    # Fetch mini-batches from the training loader\n",
    "    for X_batch, y_batch in train_loader:\n",
    "        # Zero the parameter gradients\n",
    "        optimizer.zero_grad()\n",
    "        \n",
    "        # Forward pass -> compute predictions\n",
    "        preds = model(X_batch)\n",
    "        \n",
    "        # Compute MSE loss for regression\n",
    "        loss = criterion(preds, y_batch)\n",
    "        \n",
    "        # Backward pass -> compute gradients\n",
    "        loss.backward()\n",
    "        \n",
    "        # Update parameters\n",
    "        optimizer.step()\n",
    "        \n",
    "        running_train_loss += loss.item()\n",
    "    \n",
    "    # Compute average training loss for this epoch\n",
    "    avg_train_loss = running_train_loss / len(train_loader)\n",
    "    \n",
    "    # Validation phase (disable dropout, etc.)\n",
    "    model.eval()\n",
    "    running_val_loss = 0.0\n",
    "    \n",
    "    with torch.no_grad():\n",
    "        for Xv_batch, yv_batch in val_loader:\n",
    "            # Forward pass on validation set\n",
    "            val_preds = model(Xv_batch)\n",
    "            val_loss = criterion(val_preds, yv_batch)\n",
    "            running_val_loss += val_loss.item()\n",
    "    \n",
    "    avg_val_loss = running_val_loss / len(val_loader)\n",
    "    \n",
    "    print(f\"Epoch [{epoch+1}/{max_epochs}]  \"\n",
    "          f\"Train MSE: {avg_train_loss:.4f}  \"\n",
    "          f\"Val MSE: {avg_val_loss:.4f}\")\n",
    "    \n",
    "    # Early stopping check\n",
    "    if avg_val_loss < best_val_loss:\n",
    "        # If validation improves, update best_val_loss and reset patience counter\n",
    "        best_val_loss = avg_val_loss\n",
    "        epochs_no_improve = 0\n",
    "        # Save current model as best\n",
    "        torch.save(model.state_dict(), best_model_path)\n",
    "        print(\"  Best model saved (improved validation MSE).\")\n",
    "    else:\n",
    "        epochs_no_improve += 1\n",
    "        # If no improvement for 'patience' epochs, stop\n",
    "        if epochs_no_improve >= patience:\n",
    "            print(\"Early stopping triggered (no improvement).\")\n",
    "            break\n",
    "\n",
    "print(\"\\nTraining complete. Loading best model for final checks.\")\n",
    "best_model = SimpleCNNRegression()\n",
    "best_model.load_state_dict(torch.load(best_model_path, weights_only=False))\n",
    "best_model.eval()\n",
    "\n",
    "# We can now evaluate 'best_model' on the validation set (or test set if we had one).\n",
    "# For instance, a quick check of final validation MSE:\n",
    "final_val_loss = 0.0\n",
    "with torch.no_grad():\n",
    "    for Xv_batch, yv_batch in val_loader:\n",
    "        val_preds = best_model(Xv_batch)\n",
    "        val_loss = criterion(val_preds, yv_batch)\n",
    "        final_val_loss += val_loss.item()\n",
    "print(f\"Final validation MSE (best model): {final_val_loss / len(val_loader):.4f}\")"
   ]
  },
  {
   "cell_type": "markdown",
   "id": "68d4b128",
   "metadata": {},
   "source": [
    "## Introduction to PyTorch tensors\n",
    "\n",
    "PyTorch is a popular open-source deep learning framework, and **tensors** are its core data structure. In PyTorch, tensors are the central data abstraction – a specialized data structure very similar to arrays or matrices, used to represent data (inputs, outputs, model parameters) in deep learning models. Tensors are conceptually like NumPy’s multi-dimensional arrays, but with two key advantages: they can run on GPUs (for accelerated computing), and they support automatic differentiation (through PyTorch’s autograd engine) for computing gradients. These features make tensors fundamental for building and training neural networks.\n",
    "\n",
    "In this introduction, we’ll explore PyTorch tensors from the ground up. We assume you are comfortable with Python and NumPy, but completely new to PyTorch. We’ll cover what tensors are and how they compare to NumPy arrays, how to create and manipulate them, basic operations, how PyTorch’s autograd works for automatic differentiation, and some additional important tensor functionalities like broadcasting, using GPUs, and in-place operations. Along the way, you’ll find hands-on code examples you can run and modify to solidify your understanding.\n",
    "\n",
    "Let's get started by importing PyTorch (the `torch` library) and seeing how to create tensors in various ways."
   ]
  },
  {
   "cell_type": "markdown",
   "id": "3dbbdd63",
   "metadata": {},
   "source": [
    "PyTorch (`torch`) provides the `Tensor` class, which, as mentioned, is similar to NumPy’s `ndarray`s but with GPU support and gradient computation. If you’re familiar with NumPy arrays, you’ll find the tensor API quite intuitive. In fact, many operations (creation, indexing, math, etc.) have a very similar syntax.\n",
    "\n",
    "One important difference is that PyTorch operations can be automatically differentiated (if required), which is essential for tasks like training neural networks."
   ]
  },
  {
   "cell_type": "markdown",
   "id": "20877a9a",
   "metadata": {},
   "source": [
    "### Creating Tensors\n",
    "\n",
    "There are many ways to create a tensor in PyTorch. Here are some of the most common methods:\n",
    "\n",
    "1. **From Python data**: You can create a tensor directly from a Python list or sequence of numbers using `torch.tensor()`. PyTorch will automatically infer the data type (dtype) if not specified.\n",
    "2. **From a NumPy array**: PyTorch can convert NumPy `ndarray`s into tensors with `torch.from_numpy()`, and vice versa using the Tensor’s `.numpy()` method. This makes it easy to move data between NumPy and PyTorch. (Notably, if the NumPy array is on CPU, the tensor and the array will share the same memory buffer, so changing one will also change the other.)\n",
    "3. **Using factory functions**: PyTorch provides factory methods to create tensors with specific values or distributions. For example, `torch.zeros(shape)` creates a tensor filled with zeros, `torch.ones(shape)` creates one filled with ones, and `torch.rand(shape)` creates one with random values uniformly sampled between 0 and 1. You can also create tensors based on an existing tensor’s properties with functions like `torch.ones_like(existing_tensor)` or `torch.rand_like(existing_tensor)`.\n",
    "4. **Uninitialized tensors**: If you need an uninitialized tensor (just allocating memory without setting values), you can use `torch.empty(shape)`.\n",
    "5. **Specifying data types and devices**: All the above functions accept a `dtype` parameter to specify the tensor’s data type (e.g. `torch.float32`, `torch.int64`, etc.), and a `device` parameter to specify whether the tensor should reside on the CPU or GPU. By default, PyTorch tensors are created with `dtype=torch.float32` (for floating point numbers) and on the CPU.\n",
    "\n",
    "Let’s go through some examples of creating tensors."
   ]
  },
  {
   "cell_type": "code",
   "execution_count": 6,
   "id": "2db1a64a",
   "metadata": {},
   "outputs": [
    {
     "data": {
      "text/latex": [
       "$\\displaystyle \\text{Tensor from list:}\\left[\n",
       "\\begin{array}{}\n",
       "  1.0000 &  2.0000 &  3.0000\\\\\n",
       "  4.0000 &  5.0000 &  6.0000\n",
       "\\end{array}\n",
       "\\right]$"
      ],
      "text/plain": [
       "<IPython.core.display.Math object>"
      ]
     },
     "metadata": {},
     "output_type": "display_data"
    },
    {
     "data": {
      "text/latex": [
       "$\\displaystyle \\text{Tensor from NumPy array:}\\left[\n",
       "\\begin{array}{}\n",
       "  1.0000 &  2.0000 &  3.0000\\\\\n",
       "  4.0000 &  5.0000 &  6.0000\n",
       "\\end{array}\n",
       "\\right]$"
      ],
      "text/plain": [
       "<IPython.core.display.Math object>"
      ]
     },
     "metadata": {},
     "output_type": "display_data"
    },
    {
     "data": {
      "text/latex": [
       "$\\displaystyle \\text{After modifying the NumPy array, the Tensor becomes:}\\left[\n",
       "\\begin{array}{}\n",
       "  99.0000 &  2.0000 &  3.0000\\\\\n",
       "  4.0000 &  5.0000 &  6.0000\n",
       "\\end{array}\n",
       "\\right]$"
      ],
      "text/plain": [
       "<IPython.core.display.Math object>"
      ]
     },
     "metadata": {},
     "output_type": "display_data"
    },
    {
     "data": {
      "text/latex": [
       "$\\displaystyle \\text{Zero Tensor:}\\left[\n",
       "\\begin{array}{}\n",
       "  0.0000 &  0.0000 &  0.0000\\\\\n",
       "  0.0000 &  0.0000 &  0.0000\n",
       "\\end{array}\n",
       "\\right]$"
      ],
      "text/plain": [
       "<IPython.core.display.Math object>"
      ]
     },
     "metadata": {},
     "output_type": "display_data"
    },
    {
     "data": {
      "text/latex": [
       "$\\displaystyle \\text{Ones Tensor:}\\left[\n",
       "\\begin{array}{}\n",
       "  1.0000 &  1.0000 &  1.0000\\\\\n",
       "  1.0000 &  1.0000 &  1.0000\n",
       "\\end{array}\n",
       "\\right]$"
      ],
      "text/plain": [
       "<IPython.core.display.Math object>"
      ]
     },
     "metadata": {},
     "output_type": "display_data"
    },
    {
     "data": {
      "text/latex": [
       "$\\displaystyle \\text{Random Tensor:}\\left[\n",
       "\\begin{array}{}\n",
       "  0.3694 &  0.0083 &  0.2881\\\\\n",
       "  0.6885 &  0.0613 &  0.6857\n",
       "\\end{array}\n",
       "\\right]$"
      ],
      "text/plain": [
       "<IPython.core.display.Math object>"
      ]
     },
     "metadata": {},
     "output_type": "display_data"
    },
    {
     "data": {
      "text/latex": [
       "$\\displaystyle \\text{Ones-like Tensor:}\\left[\n",
       "\\begin{array}{}\n",
       "  1.0000 &  1.0000 &  1.0000\\\\\n",
       "  1.0000 &  1.0000 &  1.0000\n",
       "\\end{array}\n",
       "\\right]$"
      ],
      "text/plain": [
       "<IPython.core.display.Math object>"
      ]
     },
     "metadata": {},
     "output_type": "display_data"
    },
    {
     "data": {
      "text/latex": [
       "$\\displaystyle \\text{Rand-like Tensor with float32 dtype:}\\left[\n",
       "\\begin{array}{}\n",
       "  0.1727 &  0.0638 &  0.8882\\\\\n",
       "  0.2581 &  0.6297 &  0.5798\n",
       "\\end{array}\n",
       "\\right]$"
      ],
      "text/plain": [
       "<IPython.core.display.Math object>"
      ]
     },
     "metadata": {},
     "output_type": "display_data"
    },
    {
     "name": "stdout",
     "output_type": "stream",
     "text": [
      "Tensor shape: torch.Size([2, 3])\n",
      "Tensor data type: torch.int64\n",
      "Tensor device: cpu\n"
     ]
    }
   ],
   "source": [
    "# Creating a tensor from a Python list\n",
    "data_list = [[1, 2, 3], [4, 5, 6]]\n",
    "x_data = torch.tensor(data_list)\n",
    "pprint(\"\\\\text{Tensor from list:}\", x_data)\n",
    "\n",
    "# Creating a tensor from a NumPy array\n",
    "np_array = np.array(data_list)\n",
    "x_np = torch.from_numpy(np_array)\n",
    "pprint(\"\\\\text{Tensor from NumPy array:}\", x_np)\n",
    "\n",
    "# Verify that modifying the NumPy array changes the tensor (shared memory)\n",
    "np_array[0, 0] = 99\n",
    "pprint(\"\\\\text{After modifying the NumPy array, the Tensor becomes:}\", x_np)\n",
    "\n",
    "# Creating tensors using factory functions\n",
    "shape = (2, 3)\n",
    "x_zeros = torch.zeros(shape)\n",
    "x_ones = torch.ones(shape)\n",
    "x_rand = torch.rand(shape)\n",
    "pprint(\"\\\\text{Zero Tensor:}\", x_zeros)\n",
    "pprint(\"\\\\text{Ones Tensor:}\", x_ones)\n",
    "pprint(\"\\\\text{Random Tensor:}\", x_rand)\n",
    "\n",
    "# Creating tensors based on existing ones\n",
    "x_like = torch.ones_like(x_rand)        # tensor of ones with same shape as x_rand\n",
    "x_like_float = torch.rand_like(x_data, dtype=torch.float32)  # random tensor with same shape as x_data, but forced float type\n",
    "pprint(\"\\\\text{Ones-like Tensor:}\", x_like)\n",
    "pprint(\"\\\\text{Rand-like Tensor with float32 dtype:}\", x_like_float)\n",
    "\n",
    "# Checking tensor attributes\n",
    "print(\"Tensor shape:\", x_data.shape)\n",
    "print(\"Tensor data type:\", x_data.dtype)\n",
    "print(\"Tensor device:\", x_data.device)"
   ]
  },
  {
   "cell_type": "markdown",
   "id": "f91227d1",
   "metadata": {},
   "source": [
    "### Basic Tensor Operations\n",
    "Once you have tensors, PyTorch provides a rich set of operations to manipulate them. In fact, there are over 100 tensor operations available, including arithmetic, linear algebra, slicing, reshaping, and more. Many of these mirror NumPy operations in syntax and function. Let’s go through some fundamental operations.\n",
    "\n",
    "#### Arithmetic operations\n",
    "Arithmetic on tensors is typically element-wise (just like with NumPy arrays). You can use Python arithmetic operators (`+`, `-`, `*`, `/`) or the equivalent `torch` functions (`torch.add`, `torch.sub`, etc.). For example:"
   ]
  },
  {
   "cell_type": "code",
   "execution_count": 7,
   "id": "d047839b",
   "metadata": {},
   "outputs": [
    {
     "data": {
      "text/latex": [
       "$\\displaystyle a=\\left[\n",
       "\\begin{array}{}\n",
       "  1.0000 &  2.0000 &  3.0000\n",
       "\\end{array}\n",
       "\\right]$"
      ],
      "text/plain": [
       "<IPython.core.display.Math object>"
      ]
     },
     "metadata": {},
     "output_type": "display_data"
    },
    {
     "data": {
      "text/latex": [
       "$\\displaystyle b=\\left[\n",
       "\\begin{array}{}\n",
       "  4.0000 &  5.0000 &  6.0000\n",
       "\\end{array}\n",
       "\\right]$"
      ],
      "text/plain": [
       "<IPython.core.display.Math object>"
      ]
     },
     "metadata": {},
     "output_type": "display_data"
    },
    {
     "data": {
      "text/latex": [
       "$\\displaystyle a + b =\\left[\n",
       "\\begin{array}{}\n",
       "  5.0000 &  7.0000 &  9.0000\n",
       "\\end{array}\n",
       "\\right]$"
      ],
      "text/plain": [
       "<IPython.core.display.Math object>"
      ]
     },
     "metadata": {},
     "output_type": "display_data"
    },
    {
     "data": {
      "text/latex": [
       "$\\displaystyle a \\times b =\\left[\n",
       "\\begin{array}{}\n",
       "  4.0000 &  10.0000 &  18.0000\n",
       "\\end{array}\n",
       "\\right]$"
      ],
      "text/plain": [
       "<IPython.core.display.Math object>"
      ]
     },
     "metadata": {},
     "output_type": "display_data"
    },
    {
     "data": {
      "text/latex": [
       "$\\displaystyle a - b =\\left[\n",
       "\\begin{array}{}\n",
       " -3.0000 & -3.0000 & -3.0000\n",
       "\\end{array}\n",
       "\\right]$"
      ],
      "text/plain": [
       "<IPython.core.display.Math object>"
      ]
     },
     "metadata": {},
     "output_type": "display_data"
    },
    {
     "data": {
      "text/latex": [
       "$\\displaystyle \\frac{a}{b} =\\left[\n",
       "\\begin{array}{}\n",
       "  0.2500 &  0.4000 &  0.5000\n",
       "\\end{array}\n",
       "\\right]$"
      ],
      "text/plain": [
       "<IPython.core.display.Math object>"
      ]
     },
     "metadata": {},
     "output_type": "display_data"
    }
   ],
   "source": [
    "# Element-wise arithmetic operations\n",
    "a = torch.tensor([1.0, 2.0, 3.0])\n",
    "b = torch.tensor([4.0, 5.0, 6.0])\n",
    "\n",
    "pprint(\"a=\", a)\n",
    "pprint(\"b=\", b)\n",
    "pprint(\"a + b =\", a + b)        # element-wise addition\n",
    "pprint(\"a \\\\times b =\", a * b)        # element-wise multiplication\n",
    "pprint(\"a - b =\", a - b)        # element-wise subtraction\n",
    "pprint(\"\\\\frac{a}{b} =\", a / b)        # element-wise division"
   ]
  },
  {
   "cell_type": "markdown",
   "id": "55e08f05",
   "metadata": {},
   "source": [
    "The results should be as expected:\n",
    "\n",
    "- `a + b` gives `[5.0, 7.0, 9.0]`\n",
    "- `a * b` gives `[4.0, 10.0, 18.0]`\n",
    "- etc.\n",
    "\n",
    "If you want to do **matrix multiplication** (dot products, etc.), you should use the `@` operator or `torch.matmul`. For example, `A @ B` does matrix multiply if `A` and `B` are 2-D matrices (or higher-dim, following broadcast batch rules). For 1-D vectors, `a @ b` will give a scalar dot product. Let’s see a quick example:"
   ]
  },
  {
   "cell_type": "code",
   "execution_count": 8,
   "id": "5b7bec26",
   "metadata": {},
   "outputs": [
    {
     "data": {
      "text/latex": [
       "$\\displaystyle A=\\left[\n",
       "\\begin{array}{}\n",
       "  1.0000 &  2.0000\\\\\n",
       "  3.0000 &  4.0000\n",
       "\\end{array}\n",
       "\\right]$"
      ],
      "text/plain": [
       "<IPython.core.display.Math object>"
      ]
     },
     "metadata": {},
     "output_type": "display_data"
    },
    {
     "data": {
      "text/latex": [
       "$\\displaystyle B=\\left[\n",
       "\\begin{array}{}\n",
       "  5.0000 &  6.0000\\\\\n",
       "  7.0000 &  8.0000\n",
       "\\end{array}\n",
       "\\right]$"
      ],
      "text/plain": [
       "<IPython.core.display.Math object>"
      ]
     },
     "metadata": {},
     "output_type": "display_data"
    },
    {
     "data": {
      "text/latex": [
       "$\\displaystyle \\text{Element-wise multiply:}\\left[\n",
       "\\begin{array}{}\n",
       "  5.0000 &  12.0000\\\\\n",
       "  21.0000 &  32.0000\n",
       "\\end{array}\n",
       "\\right]$"
      ],
      "text/plain": [
       "<IPython.core.display.Math object>"
      ]
     },
     "metadata": {},
     "output_type": "display_data"
    },
    {
     "data": {
      "text/latex": [
       "$\\displaystyle \\text{Matrix multiply:}\\left[\n",
       "\\begin{array}{}\n",
       "  19.0000 &  22.0000\\\\\n",
       "  43.0000 &  50.0000\n",
       "\\end{array}\n",
       "\\right]$"
      ],
      "text/plain": [
       "<IPython.core.display.Math object>"
      ]
     },
     "metadata": {},
     "output_type": "display_data"
    }
   ],
   "source": [
    "# Matrix multiplication vs elementwise\n",
    "A = torch.tensor([[1, 2],\n",
    "                  [3, 4]])\n",
    "B = torch.tensor([[5, 6],\n",
    "                  [7, 8]])\n",
    "pprint(\"A=\", A)\n",
    "pprint(\"B=\", B)\n",
    "pprint(\"\\\\text{Element-wise multiply:}\", A * B)   # same shape -> elementwise product\n",
    "pprint(\"\\\\text{Matrix multiply:}\", A @ B)         # 2x2 @ 2x2 -> 2x2 matrix result"
   ]
  },
  {
   "cell_type": "markdown",
   "id": "7c79aad1",
   "metadata": {},
   "source": [
    "Here, `A * B` will do element-wise multiplication (resulting in $\\begin{bmatrix}5&12\\\\21&32\\end{bmatrix}$), whereas `A @ B` will compute the matrix product (result $\\begin{bmatrix}19&22\\\\43&50\\end{bmatrix}$).\n",
    "\n",
    "#### Indexing and slicing\n",
    "\n",
    "You can access and modify parts of tensors using indexing and slicing, just like with NumPy. PyTorch uses 0-based indexing. You can use indices, ranges, colons, and even Boolean masks or index tensors (though advanced indexing is outside our scope here). Some examples:"
   ]
  },
  {
   "cell_type": "code",
   "execution_count": 9,
   "id": "791a6e6e",
   "metadata": {},
   "outputs": [
    {
     "data": {
      "text/latex": [
       "$\\displaystyle \\text{Original tensor: }\\left[\n",
       "\\begin{array}{}\n",
       "  10.0000 &  11.0000 &  12.0000\\\\\n",
       "  20.0000 &  21.0000 &  22.0000\\\\\n",
       "  30.0000 &  31.0000 &  32.0000\n",
       "\\end{array}\n",
       "\\right]$"
      ],
      "text/plain": [
       "<IPython.core.display.Math object>"
      ]
     },
     "metadata": {},
     "output_type": "display_data"
    },
    {
     "data": {
      "text/latex": [
       "$\\displaystyle \\text{Element at (0, 1): }11$"
      ],
      "text/plain": [
       "<IPython.core.display.Math object>"
      ]
     },
     "metadata": {},
     "output_type": "display_data"
    },
    {
     "data": {
      "text/latex": [
       "$\\displaystyle \\text{First row: }\\left[\n",
       "\\begin{array}{}\n",
       "  10.0000 &  11.0000 &  12.0000\n",
       "\\end{array}\n",
       "\\right]$"
      ],
      "text/plain": [
       "<IPython.core.display.Math object>"
      ]
     },
     "metadata": {},
     "output_type": "display_data"
    },
    {
     "data": {
      "text/latex": [
       "$\\displaystyle \\text{Last column: }\\left[\n",
       "\\begin{array}{}\n",
       "  12.0000 &  22.0000 &  32.0000\n",
       "\\end{array}\n",
       "\\right]$"
      ],
      "text/plain": [
       "<IPython.core.display.Math object>"
      ]
     },
     "metadata": {},
     "output_type": "display_data"
    },
    {
     "data": {
      "text/latex": [
       "$\\displaystyle \\text{Top-left 2x2 sub-tensor: }\\left[\n",
       "\\begin{array}{}\n",
       "  10.0000 &  11.0000\\\\\n",
       "  20.0000 &  21.0000\n",
       "\\end{array}\n",
       "\\right]$"
      ],
      "text/plain": [
       "<IPython.core.display.Math object>"
      ]
     },
     "metadata": {},
     "output_type": "display_data"
    },
    {
     "data": {
      "text/latex": [
       "$\\displaystyle \\text{Tensor after modification: }\\left[\n",
       "\\begin{array}{}\n",
       "  10.0000 &  11.0000 &  12.0000\\\\\n",
       "  20.0000 & -1.0000 & -2.0000\\\\\n",
       "  30.0000 & -3.0000 & -4.0000\n",
       "\\end{array}\n",
       "\\right]$"
      ],
      "text/plain": [
       "<IPython.core.display.Math object>"
      ]
     },
     "metadata": {},
     "output_type": "display_data"
    }
   ],
   "source": [
    "# Create a 2-D tensor (matrix) for demonstration\n",
    "x = torch.tensor([[10, 11, 12],\n",
    "                  [20, 21, 22],\n",
    "                  [30, 31, 32]])\n",
    "pprint(\"\\\\text{Original tensor: }\", x)\n",
    "\n",
    "# Indexing a single element\n",
    "pprint(\"\\\\text{Element at (0, 1): }\", str(x[0, 1].item()))   # .item() to get Python scalar\n",
    "\n",
    "# Slicing rows and columns\n",
    "pprint(\"\\\\text{First row: }\", x[0])            # equivalent to x[0, :]\n",
    "pprint(\"\\\\text{Last column: }\", x[:, -1])       # all rows, last column\n",
    "\n",
    "# Slice a submatrix (e.g., top-left 2x2 block)\n",
    "sub_x = x[0:2, 0:2]   # rows 0-1 and cols 0-1\n",
    "pprint(\"\\\\text{Top-left 2x2 sub-tensor: }\", sub_x)\n",
    "\n",
    "# Modify part of the tensor\n",
    "x[1:, 1:] = torch.tensor([[ -1, -2],\n",
    "                          [ -3, -4]])   # set bottom-right 2x2 block to new values\n",
    "pprint(\"\\\\text{Tensor after modification: }\", x)"
   ]
  },
  {
   "cell_type": "raw",
   "id": "06e83a0e-2f22-4a37-a1bc-25a51c703095",
   "metadata": {},
   "source": [
    "##### In this code:\n",
    "\n",
    "- We created a 3×3 tensor `x` with some distinct values.\n",
    "- We accessed a single element `x[0, 1]` (which should be `11` in the original tensor). Using `.item()` converts the 0-dim tensor to a Python number.\n",
    "- We took the first row `x[0]` (which yields `[10, 11, 12]`) and the last column `x[:, -1]` (which yields `[12, 22, 32]`).\n",
    "- We sliced a 2×2 sub-tensor (the upper-left corner).\n",
    "- We then modified a sub-section of the tensor (`x[1:, 1:]`) by assigning a new tensor of the same shape. The original tensor `x` is changed in place.\n",
    "\n",
    "Note: Slicing a tensor (e.g., `y = x[0:2, 0:2]`) will result in a **view** of the original tensor whenever possible (i.e., it doesn’t copy the data). So modifying `y` would also modify `x`. If you need to explicitly copy a tensor or sub-tensor, you can use `.clone()`.\n",
    "\n",
    "#### Reshaping and concatenation\n",
    "\n",
    "Often you'll want to change the shape or dimensionality of a tensor without changing its data. This is done with operations like `tensor.view()` or `tensor.reshape()`. Both do similar things (though `.view()` only works on contiguous tensors). For simplicity, we'll use `reshape` here.\n",
    "\n",
    "You can also join tensors together (concatenate) along a given dimension using `torch.cat` or stack them with `torch.stack` (which adds a new dimension). Examples:"
   ]
  },
  {
   "cell_type": "code",
   "execution_count": 10,
   "id": "f3d05b78",
   "metadata": {},
   "outputs": [
    {
     "data": {
      "text/latex": [
       "$\\displaystyle t=\\left[\n",
       "\\begin{array}{}\n",
       "  0.0000 &  1.0000 &  2.0000 &  3.0000 &  4.0000 &  5.0000 &  6.0000 &  7.0000 &  8.0000 &  9.0000 &  10.0000 &  11.0000 &  12.0000 &  13.0000 &  14.0000 &  15.0000\n",
       "\\end{array}\n",
       "\\right]$"
      ],
      "text/plain": [
       "<IPython.core.display.Math object>"
      ]
     },
     "metadata": {},
     "output_type": "display_data"
    },
    {
     "data": {
      "text/latex": [
       "$\\displaystyle \\text{t reshaped to 4x4: }\\left[\n",
       "\\begin{array}{}\n",
       "  0.0000 &  1.0000 &  2.0000 &  3.0000\\\\\n",
       "  4.0000 &  5.0000 &  6.0000 &  7.0000\\\\\n",
       "  8.0000 &  9.0000 &  10.0000 &  11.0000\\\\\n",
       "  12.0000 &  13.0000 &  14.0000 &  15.0000\n",
       "\\end{array}\n",
       "\\right]$"
      ],
      "text/plain": [
       "<IPython.core.display.Math object>"
      ]
     },
     "metadata": {},
     "output_type": "display_data"
    },
    {
     "data": {
      "text/latex": [
       "$\\displaystyle t^T:\\ \\left[\n",
       "\\begin{array}{}\n",
       "  0.0000 &  4.0000 &  8.0000 &  12.0000\\\\\n",
       "  1.0000 &  5.0000 &  9.0000 &  13.0000\\\\\n",
       "  2.0000 &  6.0000 &  10.0000 &  14.0000\\\\\n",
       "  3.0000 &  7.0000 &  11.0000 &  15.0000\n",
       "\\end{array}\n",
       "\\right]$"
      ],
      "text/plain": [
       "<IPython.core.display.Math object>"
      ]
     },
     "metadata": {},
     "output_type": "display_data"
    }
   ],
   "source": [
    "# Reshape (view) a tensor\n",
    "t = torch.arange(16)        # 1-D tensor [0, 1, 2, ..., 15]\n",
    "pprint(\"t=\", t)\n",
    "\n",
    "t_matrix = t.reshape(4, 4)  # reshape to 4x4 matrix\n",
    "pprint(\"\\\\text{t reshaped to 4x4: }\", t_matrix)\n",
    "\n",
    "# Transpose the matrix (swap dimensions)\n",
    "pprint(\"t^T:\\ \", t_matrix.T)"
   ]
  },
  {
   "cell_type": "code",
   "execution_count": 11,
   "id": "4506c243-1d8a-457d-99f5-43183e19b778",
   "metadata": {},
   "outputs": [
    {
     "data": {
      "text/latex": [
       "$\\displaystyle t_1=\\left[\n",
       "\\begin{array}{}\n",
       "  1.0000 &  2.0000 &  3.0000\\\\\n",
       "  4.0000 &  5.0000 &  6.0000\n",
       "\\end{array}\n",
       "\\right]$"
      ],
      "text/plain": [
       "<IPython.core.display.Math object>"
      ]
     },
     "metadata": {},
     "output_type": "display_data"
    },
    {
     "data": {
      "text/latex": [
       "$\\displaystyle t_2:=\\left[\n",
       "\\begin{array}{}\n",
       "  7.0000 &  8.0000 &  9.0000\\\\\n",
       "  10.0000 &  11.0000 &  12.0000\n",
       "\\end{array}\n",
       "\\right]$"
      ],
      "text/plain": [
       "<IPython.core.display.Math object>"
      ]
     },
     "metadata": {},
     "output_type": "display_data"
    },
    {
     "data": {
      "text/latex": [
       "$\\displaystyle t_1\\text{ and }t_2\\text{  concatenated along dim=0: }\\left[\n",
       "\\begin{array}{}\n",
       "  1.0000 &  2.0000 &  3.0000\\\\\n",
       "  4.0000 &  5.0000 &  6.0000\\\\\n",
       "  7.0000 &  8.0000 &  9.0000\\\\\n",
       "  10.0000 &  11.0000 &  12.0000\n",
       "\\end{array}\n",
       "\\right]$"
      ],
      "text/plain": [
       "<IPython.core.display.Math object>"
      ]
     },
     "metadata": {},
     "output_type": "display_data"
    },
    {
     "data": {
      "text/latex": [
       "$\\displaystyle t_1\\text{  and }t_2\\text{  concatenated along dim=1: }\\left[\n",
       "\\begin{array}{}\n",
       "  1.0000 &  2.0000 &  3.0000 &  7.0000 &  8.0000 &  9.0000\\\\\n",
       "  4.0000 &  5.0000 &  6.0000 &  10.0000 &  11.0000 &  12.0000\n",
       "\\end{array}\n",
       "\\right]$"
      ],
      "text/plain": [
       "<IPython.core.display.Math object>"
      ]
     },
     "metadata": {},
     "output_type": "display_data"
    }
   ],
   "source": [
    "# Concatenate two tensors\n",
    "t1 = torch.tensor([[1, 2, 3],\n",
    "                   [4, 5, 6]])\n",
    "t2 = torch.tensor([[7, 8, 9],\n",
    "                   [10, 11, 12]])\n",
    "t_cat0 = torch.cat([t1, t2], dim=0)  # concatenate along rows (dim=0)\n",
    "t_cat1 = torch.cat([t1, t2], dim=1)  # concatenate along columns (dim=1)\n",
    "\n",
    "pprint(\"t_1=\", t1)\n",
    "pprint(\"t_2:=\", t2)\n",
    "pprint(\"t_1\\\\text{ and }t_2\\\\text{  concatenated along dim=0: }\", t_cat0)\n",
    "pprint(\"t_1\\\\text{  and }t_2\\\\text{  concatenated along dim=1: }\", t_cat1)"
   ]
  },
  {
   "cell_type": "markdown",
   "id": "dac9198e",
   "metadata": {},
   "source": [
    "Here:\n",
    "\n",
    "- We created a 1-D tensor `t` with 16 sequential elements. We reshaped it into a 4×4 tensor `t_matrix`.\n",
    "- We transposed `t_matrix` with `.T`.\n",
    "- We took two 2×3 tensors `t1` and `t2` and concatenated them. Along `dim=0` (rows), we got a 4×3 tensor by stacking `t2` below `t1`. Along `dim=1` (columns), we got a 2×6 tensor by stacking `t2` to the right of `t1`.\n",
    "\n",
    "These basic operations (arithmetic, indexing, reshaping, concatenation, etc.) allow you to manipulate tensor data in flexible ways. PyTorch’s API is designed to be highly compatible with NumPy’s where it makes sense.\n"
   ]
  },
  {
   "cell_type": "markdown",
   "id": "7e15194e",
   "metadata": {},
   "source": [
    "### Autograd and Gradients\n",
    "One of the most powerful features of PyTorch is its **autograd** system, which allows automatic computation of gradients for tensor operations. This is what enables training of neural networks using gradient descent: you define a forward computation, and PyTorch can compute the backward gradients for you.\n",
    "\n",
    "In PyTorch, the `torch.autograd` engine tracks all operations on tensors that have `requires_grad=True`. By default, tensors do **not** track gradients. You need to specify which tensors require gradient computation (usually the learnable parameters of your model, or any input for which you want to compute a derivative) by setting `requires_grad=True` when creating the tensor or by calling `.requires_grad_()` on an existing tensor.\n",
    "\n",
    "When you perform operations on such tensors, PyTorch builds a computational graph behind the scenes: nodes are tensors, and edges are functions that produce output tensors from input tensors. Once you have a result (typically a scalar loss value), you can call `.backward()` on it, and PyTorch will automatically traverse the graph to compute the gradient of that result with respect to every tensor that has `requires_grad=True` (using the chain rule of calculus). Let’s see a simple example to illustrate this:"
   ]
  },
  {
   "cell_type": "code",
   "execution_count": 12,
   "id": "26d75cd8",
   "metadata": {},
   "outputs": [
    {
     "name": "stdout",
     "output_type": "stream",
     "text": [
      "x: tensor(3., requires_grad=True)\n",
      "y: tensor(16., grad_fn=<AddBackward0>)\n",
      "dy/dx at x=3: tensor(8.)\n"
     ]
    }
   ],
   "source": [
    "# A simple autograd example: y = f(x) where f(x) = x^2 + 2x + 1\n",
    "x = torch.tensor(3.0, requires_grad=True)   # define a tensor x with gradient tracking\n",
    "print(\"x:\", x)\n",
    "\n",
    "# Define a function of x\n",
    "y = x**2 + 2*x + 1\n",
    "print(\"y:\", y)\n",
    "\n",
    "# Compute the gradient dy/dx by calling backward on y\n",
    "y.backward()    # computes gradient of y w.r.t. x\n",
    "print(\"dy/dx at x=3:\", x.grad)"
   ]
  },
  {
   "cell_type": "markdown",
   "id": "9a54ea48",
   "metadata": {},
   "source": [
    "In this example:\n",
    "\n",
    "- We created a tensor `x` with value `3.0` and `requires_grad=True`. This means PyTorch will track operations on `x`.\n",
    "- We computed `y = x**2 + 2*x + 1`. Because `x` requires grad, `y` will also by default require grad and have a grad function associated.\n",
    "- We called `y.backward()`. Since `y` is a scalar (single value), we can call `backward` directly. After this call, the gradient of `y` with respect to `x` is computed and stored in `x.grad`.\n",
    "- We printed `x.grad`. The derivative $ y = x^2 + 2x + 1 $ is $ dy/dx = 2x + 2 $. At $ x = 3 $, that is `8`.\n",
    "\n",
    "**Important notes about autograd**:\n",
    "\n",
    "1. You can disable gradient tracking by wrapping code in `with torch.no_grad():` or by using `.detach()` on a tensor to get a new tensor that shares the same data but with no grad tracking.\n",
    "2. If `y` is not a scalar, you need to specify a gradient argument in `y.backward(gradient=...)` which is the tensor of same shape as `y` containing the gradient of the final result w.r.t. each element of `y`.\n",
    "3. By default, gradients are **accumulated** into the `.grad` property. So typically you want to zero out gradients (e.g., `x.grad.zero_()`) between independent backward passes.\n",
    "\n",
    "Autograd is what powers training routines. If you had a multi-parameter function (like a neural network with many weights), you would set `requires_grad=True` for all those parameters. After computing a loss (scalar), you’d call `loss.backward()`, and each parameter tensor’s `.grad` will be filled with its gradient.\n",
    "\n",
    "To reinforce understanding, let’s do a slightly more complex autograd example with two inputs:"
   ]
  },
  {
   "cell_type": "code",
   "execution_count": 13,
   "id": "2235f43d",
   "metadata": {},
   "outputs": [
    {
     "name": "stdout",
     "output_type": "stream",
     "text": [
      "z: tensor(3., grad_fn=<AddBackward0>)\n",
      "dz/dx: tensor(-3.)\n",
      "dz/dy: tensor(-4.)\n"
     ]
    }
   ],
   "source": [
    "# Autograd with two inputs: z = x * y + y^2\n",
    "x = torch.tensor(2.0, requires_grad=True)\n",
    "y = torch.tensor(-3.0, requires_grad=True)\n",
    "\n",
    "z = x * y + y**2   # z is a function of both x and y\n",
    "print(\"z:\", z)\n",
    "\n",
    "z.backward()  # Compute gradients dz/dx and dz/dy\n",
    "print(\"dz/dx:\", x.grad)   # should be y\n",
    "print(\"dz/dy:\", y.grad)   # should be x + 2y"
   ]
  },
  {
   "cell_type": "markdown",
   "id": "e2adcb75",
   "metadata": {},
   "source": [
    "Here $ z = x \\times y + y^2 $. We expect $ dz/dx = y $ and $ dz/dy = x + 2y $. With $ x = 2.0 $ and $ y = -3.0 $, those values are $ dz/dx = -3 $ and $ dz/dy = 2 + 2(-3) = -4 $. The autograd should produce the same results in `x.grad` and `y.grad`.\n",
    "\n",
    "### Advanced Tensor Functions\n",
    "\n",
    "#### Broadcasting\n",
    "\n",
    "Like NumPy, PyTorch supports **broadcasting** – a mechanism that allows arithmetic operations on tensors of different shapes by automatically expanding one of them to match the shape of the other. Broadcasting rules in PyTorch are the same as NumPy’s. In short, two tensors are compatible for an elementwise operation if their shapes are equal or align in such a way that one of them can be expanded (a dimension of size 1 can be expanded to match the other’s size, and missing dimensions are treated as size 1).\n",
    "\n",
    "For example, if you have a tensor of shape (4, 3) and another of shape (3,), you can add them because the second tensor can be treated as if it were (1, 3) and then expanded to (4, 3) to match the first tensor’s shape.\n",
    "\n",
    "In code, we can demonstrate broadcasting with a simple example:"
   ]
  },
  {
   "cell_type": "code",
   "execution_count": 14,
   "id": "562c99e1",
   "metadata": {},
   "outputs": [
    {
     "data": {
      "text/latex": [
       "$\\displaystyle M=\\left[\n",
       "\\begin{array}{}\n",
       "  0.0000 &  0.0000 &  0.0000\\\\\n",
       "  10.0000 &  10.0000 &  10.0000\\\\\n",
       "  20.0000 &  20.0000 &  20.0000\\\\\n",
       "  30.0000 &  30.0000 &  30.0000\n",
       "\\end{array}\n",
       "\\right]$"
      ],
      "text/plain": [
       "<IPython.core.display.Math object>"
      ]
     },
     "metadata": {},
     "output_type": "display_data"
    },
    {
     "data": {
      "text/latex": [
       "$\\displaystyle V=\\left[\n",
       "\\begin{array}{}\n",
       "  1.0000 &  2.0000 &  3.0000\n",
       "\\end{array}\n",
       "\\right]$"
      ],
      "text/plain": [
       "<IPython.core.display.Math object>"
      ]
     },
     "metadata": {},
     "output_type": "display_data"
    },
    {
     "data": {
      "text/latex": [
       "$\\displaystyle M+V\\left[\n",
       "\\begin{array}{}\n",
       "  1.0000 &  2.0000 &  3.0000\\\\\n",
       "  11.0000 &  12.0000 &  13.0000\\\\\n",
       "  21.0000 &  22.0000 &  23.0000\\\\\n",
       "  31.0000 &  32.0000 &  33.0000\n",
       "\\end{array}\n",
       "\\right]$"
      ],
      "text/plain": [
       "<IPython.core.display.Math object>"
      ]
     },
     "metadata": {},
     "output_type": "display_data"
    }
   ],
   "source": [
    "# Broadcasting example: add a vector to each row of a matrix\n",
    "mat = torch.tensor([[0, 0, 0],\n",
    "                    [10, 10, 10],\n",
    "                    [20, 20, 20],\n",
    "                    [30, 30, 30]])   # shape (4,3)\n",
    "vec = torch.tensor([1, 2, 3])        # shape (3,)\n",
    "\n",
    "result = mat + vec  # vec is broadcast to shape (4,3)\n",
    "pprint(\"M=\", mat)\n",
    "pprint(\"V=\", vec)\n",
    "pprint(\"M+V\", result)"
   ]
  },
  {
   "cell_type": "markdown",
   "id": "72704814",
   "metadata": {},
   "source": [
    "Here, `vec` is added to each row of `mat`. The expected result would be each row of `mat` incremented by `[1, 2, 3]`. Broadcasting is a powerful feature that makes your code more concise and often more efficient.\n",
    "\n",
    "#### Device Management (CPU vs GPU)\n",
    "\n",
    "One of PyTorch’s strengths is the ability to perform computations on a **GPU** for speed. Tensors can reside on either the CPU or the GPU. By default, tensors are created on the CPU.\n",
    "You can check where a tensor is located by looking at its `.device` attribute. To leverage a GPU (if you have one and PyTorch is installed with CUDA support), you need to explicitly move tensors to the GPU. There are a few ways to do this:\n",
    "\n",
    "1. Using the `.to(device)` method on a tensor, where `device` is something like `torch.device(\"cuda\")` or the shorthand string `\"cuda\"`.\n",
    "2. Using `.cuda()` method on the tensor.\n",
    "3. Creating the tensor directly on the GPU by specifying `device=torch.device(\"cuda\")` (or `device=\"cuda\"`) in the creation function.\n",
    "\n",
    "It’s common to write code that is device-agnostic (runs on CPU if no GPU is available, otherwise uses the GPU). For example:"
   ]
  },
  {
   "cell_type": "code",
   "execution_count": 15,
   "id": "c4a2b5f9",
   "metadata": {},
   "outputs": [
    {
     "name": "stdout",
     "output_type": "stream",
     "text": [
      "Using device: mps\n",
      "x device: mps:0\n",
      "y device: mps:0\n"
     ]
    }
   ],
   "source": [
    "# Device-agnostic code: choose CPU or CUDA\n",
    "device = torch.device(\"cuda\" if torch.cuda.is_available() else (\"mps\" if torch.backends.mps.is_available() else \"cpu\"))\n",
    "print(\"Using device:\", device)\n",
    "\n",
    "# Create a tensor on the chosen device\n",
    "x = torch.tensor([1.0, 2.0, 3.0], device=device)\n",
    "print(\"x device:\", x.device)\n",
    "\n",
    "# Alternatively, move an existing tensor to the device\n",
    "y = torch.ones(3)            # defaults to CPU\n",
    "y = y.to(device)             # move to GPU if available\n",
    "print(\"y device:\", y.device)"
   ]
  },
  {
   "cell_type": "markdown",
   "id": "9f2bf998",
   "metadata": {},
   "source": [
    "If you actually run this on a system with a GPU and CUDA installed, you should see device printed as `cuda:0` and the tensor devices as such. On a CPU-only system, it will say `cpu`.\n",
    "\n",
    "A quick verification of CPU vs GPU performance can be done by timing a large matrix multiplication. (Note: if you actually run this, avoid printing the giant result; just measure the time.)"
   ]
  },
  {
   "cell_type": "code",
   "execution_count": 16,
   "id": "235caa3c",
   "metadata": {},
   "outputs": [
    {
     "name": "stdout",
     "output_type": "stream",
     "text": [
      "CPU computation time: 2.077578067779541 seconds\n",
      "MPS computation time: 0.055735111236572266 seconds\n"
     ]
    }
   ],
   "source": [
    "import time\n",
    "\n",
    "# Large tensor operation on CPU vs GPU (if available)\n",
    "large_cpu = torch.randn(10000, 10000)  # 10000x10000 matrix on CPU\n",
    "start = time.time()\n",
    "res_cpu = large_cpu @ large_cpu       # matrix multiply on CPU\n",
    "end = time.time()\n",
    "print(\"CPU computation time:\", end - start, \"seconds\")\n",
    "\n",
    "if torch.cuda.is_available():\n",
    "    large_gpu = large_cpu.to(\"cuda\")\n",
    "    torch.cuda.synchronize()  # ensure data is transferred\n",
    "    start = time.time()\n",
    "    res_gpu = large_gpu @ large_gpu   # matrix multiply on GPU\n",
    "    torch.cuda.synchronize()  # wait for GPU to finish computation\n",
    "    end = time.time()\n",
    "    print(\"GPU computation time:\", end - start, \"seconds\")\n",
    "\n",
    "if torch.backends.mps.is_available():\n",
    "    large_gpu = large_cpu.to(\"mps\")\n",
    "    start = time.time()\n",
    "    res_gpu = large_gpu @ large_gpu\n",
    "    end = time.time()\n",
    "    print(\"MPS computation time:\", end - start, \"seconds\")"
   ]
  },
  {
   "cell_type": "markdown",
   "id": "63efec80",
   "metadata": {},
   "source": [
    "This snippet will likely show that the GPU computation is significantly faster for large matrix operations (depending on hardware). Remember to move your **model parameters** and **data** to the same device before doing operations.\n",
    "\n",
    "For example, the code below moves a tensor to GPU if available:\n"
   ]
  },
  {
   "cell_type": "code",
   "execution_count": 17,
   "id": "7c367f29",
   "metadata": {},
   "outputs": [
    {
     "name": "stdout",
     "output_type": "stream",
     "text": [
      "Before moving, device: cpu\n"
     ]
    },
    {
     "name": "stdout",
     "output_type": "stream",
     "text": [
      "After moving, device: mps:0\n"
     ]
    }
   ],
   "source": [
    "tensor = torch.rand(3)\n",
    "print(\"Before moving, device:\", tensor.device)\n",
    "if torch.cuda.is_available():\n",
    "    tensor = tensor.to('cuda')\n",
    "    print(\"After moving, device:\", tensor.device)\n",
    "if torch.backends.mps.is_available():\n",
    "    tensor = tensor.to('mps')\n",
    "    print(\"After moving, device:\", tensor.device)"
   ]
  },
  {
   "cell_type": "markdown",
   "id": "343d7d31-f0f6-459d-922b-aada620bffb3",
   "metadata": {},
   "source": [
    "Running this will print:\n",
    "```\n",
    "Before moving, device: cpu\n",
    "After moving, device: cuda:0\n",
    "```\n",
    "if you have a GPU, or\n",
    "```\n",
    "Before moving, device: cpu\n",
    "After moving, device: mps:0\n",
    "```\n",
    "on M-chip Apple devices."
   ]
  },
  {
   "cell_type": "code",
   "execution_count": 18,
   "id": "8c8bd9d1-4cc2-4e22-b4ee-96d1cd7521fa",
   "metadata": {},
   "outputs": [],
   "source": [
    "torch.set_default_device(device)"
   ]
  },
  {
   "cell_type": "markdown",
   "id": "69600368",
   "metadata": {},
   "source": [
    "#### In-place Operations\n",
    "\n",
    "PyTorch differentiates between operations that create new tensors and those that modify an existing tensor **in-place**. In-place operations are identified by an underscore suffix in the method name. For example, `tensor.add_(5)` will add 5 to every element of the tensor **in-place** (mutating the tensor), whereas `tensor.add(5)` returns a new tensor with the result and leaves the original unchanged. All functions ending in `_` modify the tensor in-place.\n",
    "\n",
    "Why use in-place ops? They can save memory and sometimes a bit of compute, because you don’t allocate a new tensor for the result. However, be careful: in-place operations can sometimes interfere with autograd (if you modify values required to compute gradients). As a rule of thumb, avoid using in-place ops on tensors that require grad unless you know what you’re doing.\n",
    "\n",
    "Let’s demonstrate the difference between an in-place operation and its out-of-place counterpart:"
   ]
  },
  {
   "cell_type": "code",
   "execution_count": 19,
   "id": "c4aab55f",
   "metadata": {},
   "outputs": [
    {
     "data": {
      "text/latex": [
       "$\\displaystyle a=\\left[\n",
       "\\begin{array}{}\n",
       "  1.0000 &  1.0000 &  1.0000 &  1.0000 &  1.0000\n",
       "\\end{array}\n",
       "\\right]$"
      ],
      "text/plain": [
       "<IPython.core.display.Math object>"
      ]
     },
     "metadata": {},
     "output_type": "display_data"
    },
    {
     "name": "stdout",
     "output_type": "stream",
     "text": [
      "After b = a.add(5):\n"
     ]
    },
    {
     "data": {
      "text/latex": [
       "$\\displaystyle a=\\left[\n",
       "\\begin{array}{}\n",
       "  1.0000 &  1.0000 &  1.0000 &  1.0000 &  1.0000\n",
       "\\end{array}\n",
       "\\right]$"
      ],
      "text/plain": [
       "<IPython.core.display.Math object>"
      ]
     },
     "metadata": {},
     "output_type": "display_data"
    },
    {
     "data": {
      "text/latex": [
       "$\\displaystyle b=\\left[\n",
       "\\begin{array}{}\n",
       "  6.0000 &  6.0000 &  6.0000 &  6.0000 &  6.0000\n",
       "\\end{array}\n",
       "\\right]$"
      ],
      "text/plain": [
       "<IPython.core.display.Math object>"
      ]
     },
     "metadata": {},
     "output_type": "display_data"
    },
    {
     "name": "stdout",
     "output_type": "stream",
     "text": [
      "\n",
      "After a.add_(5):\n"
     ]
    },
    {
     "data": {
      "text/latex": [
       "$\\displaystyle a=\\left[\n",
       "\\begin{array}{}\n",
       "  6.0000 &  6.0000 &  6.0000 &  6.0000 &  6.0000\n",
       "\\end{array}\n",
       "\\right]$"
      ],
      "text/plain": [
       "<IPython.core.display.Math object>"
      ]
     },
     "metadata": {},
     "output_type": "display_data"
    }
   ],
   "source": [
    "a = torch.ones(5)\n",
    "pprint(\"a=\", a)\n",
    "\n",
    "# Out-of-place addition\n",
    "b = a.add(5)\n",
    "print(\"After b = a.add(5):\")\n",
    "pprint(\"a=\", a)  # a should remain unchanged\n",
    "pprint(\"b=\", b)  # b is the new tensor\n",
    "\n",
    "# In-place addition\n",
    "a.add_(5)\n",
    "print(\"\\nAfter a.add_(5):\")\n",
    "pprint(\"a=\", a)  # a is now changed in-place"
   ]
  },
  {
   "cell_type": "markdown",
   "id": "4dc5c1af",
   "metadata": {},
   "source": [
    "Output should show:\n",
    "\n",
    "1. Initially, `a` is `[1, 1, 1, 1, 1]`.\n",
    "2. After `b = a.add(5)`, `a` stays `[1, 1, 1, 1, 1]` but `b` is `[6, 6, 6, 6, 6]`.\n",
    "3. After `a.add_(5)`, now `a` has become `[6, 6, 6, 6, 6]` in-place.\n",
    "\n",
    "Another example with multiplication:"
   ]
  },
  {
   "cell_type": "code",
   "execution_count": 20,
   "id": "2da66cd0",
   "metadata": {},
   "outputs": [
    {
     "data": {
      "text/latex": [
       "$\\displaystyle x=\\left[\n",
       "\\begin{array}{}\n",
       "  2.0000 &  2.0000 &  2.0000\n",
       "\\end{array}\n",
       "\\right]$"
      ],
      "text/plain": [
       "<IPython.core.display.Math object>"
      ]
     },
     "metadata": {},
     "output_type": "display_data"
    },
    {
     "data": {
      "text/latex": [
       "$\\displaystyle y=\\left[\n",
       "\\begin{array}{}\n",
       "  2.0000 &  2.0000 &  2.0000\n",
       "\\end{array}\n",
       "\\right]$"
      ],
      "text/plain": [
       "<IPython.core.display.Math object>"
      ]
     },
     "metadata": {},
     "output_type": "display_data"
    },
    {
     "data": {
      "text/latex": [
       "$\\displaystyle \\text{x after in-place mul\\_: }\\left[\n",
       "\\begin{array}{}\n",
       "  2.0000 &  2.0000 &  2.0000\n",
       "\\end{array}\n",
       "\\right]$"
      ],
      "text/plain": [
       "<IPython.core.display.Math object>"
      ]
     },
     "metadata": {},
     "output_type": "display_data"
    },
    {
     "data": {
      "text/latex": [
       "$\\displaystyle \\text{y (result of x.mul\\_(2)): }\\left[\n",
       "\\begin{array}{}\n",
       "  2.0000 &  2.0000 &  2.0000\n",
       "\\end{array}\n",
       "\\right]$"
      ],
      "text/plain": [
       "<IPython.core.display.Math object>"
      ]
     },
     "metadata": {},
     "output_type": "display_data"
    },
    {
     "data": {
      "text/latex": [
       "$\\displaystyle \\text{x after out-of-place mul(3): }\\left[\n",
       "\\begin{array}{}\n",
       "  2.0000 &  2.0000 &  2.0000\n",
       "\\end{array}\n",
       "\\right]$"
      ],
      "text/plain": [
       "<IPython.core.display.Math object>"
      ]
     },
     "metadata": {},
     "output_type": "display_data"
    },
    {
     "data": {
      "text/latex": [
       "$\\displaystyle \\text{z (result of x.mul(3)): }\\left[\n",
       "\\begin{array}{}\n",
       "  6.0000 &  6.0000 &  6.0000\n",
       "\\end{array}\n",
       "\\right]$"
      ],
      "text/plain": [
       "<IPython.core.display.Math object>"
      ]
     },
     "metadata": {},
     "output_type": "display_data"
    }
   ],
   "source": [
    "x = torch.ones(3)\n",
    "y = x.mul_(2)   # in-place multiply x by 2\n",
    "pprint(\"x=\", x)\n",
    "pprint(\"y=\", y)\n",
    "\n",
    "pprint(\"\\\\text{x after in-place mul\\_: }\", x)\n",
    "pprint(\"\\\\text{y (result of x.mul\\_(2)): }\", y)\n",
    "\n",
    "# Now x is [2,2,2], let's do out-of-place multiply\n",
    "z = x.mul(3)\n",
    "pprint(\"\\\\text{x after out-of-place mul(3): }\", x)  # x remains [2,2,2]\n",
    "pprint(\"\\\\text{z (result of x.mul(3)): }\", z)       # z is [6,6,6]"
   ]
  },
  {
   "cell_type": "markdown",
   "id": "7d965cbe",
   "metadata": {},
   "source": [
    "This shows that after the in-place multiply, `x` (and `y`) have doubled their values, while the out-of-place multiply by 3 produces a new tensor `z` and leaves `x` the same."
   ]
  },
  {
   "cell_type": "markdown",
   "id": "4c661e07",
   "metadata": {},
   "source": [
    "## Exercises"
   ]
  },
  {
   "cell_type": "markdown",
   "id": "78aecb33-751e-49ac-b677-baaf1322ad55",
   "metadata": {},
   "source": [
    "### Comparison of symbolic and automatic differentiation in a simple feedforward neural network"
   ]
  },
  {
   "cell_type": "markdown",
   "id": "dd872e64",
   "metadata": {},
   "source": [
    "In this exercise, we will illustrate how **automatic differentiation** (as implemented in PyTorch) matches with the result of **symbolic differentiation** for a simple two-hidden-neuron feedforward neural network. You should:\n",
    "\n",
    "1. **Define** a simple feedforward neural network (FNN) with two hidden neurons $z_1$ and $z_2$ using the values and notation from the figure below.\n",
    "2. **Compute** the network output and the loss function (a squared error).\n",
    "3. **Derive** the gradient of the loss function with respect to each weight **symbolically**.\n",
    "4. **Use** PyTorch's **automatic differentiation** to compute the same gradients **numerically**.\n",
    "5. **Compare** the two results to verify they match.\n",
    "\n",
    "The feedforward neural network architecture that we will use in this exercise is the following:\n"
   ]
  },
  {
   "cell_type": "markdown",
   "id": "72a07cad-e5f6-46e3-b790-c2a9de39489d",
   "metadata": {},
   "source": [
    "<img src=\"data:image/png;base64,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\" style=\"width: 50%; height: 100%;\"/>"
   ]
  },
  {
   "cell_type": "markdown",
   "id": "77bc1b49",
   "metadata": {},
   "source": [
    "## Problem setup\n",
    "\n",
    "Let's consider the following simplified network:\n",
    "- **Input**: $x$, a single scalar input.\n",
    "- **Hidden layer**: two neurons $z_1$ and $z_2$\n",
    "- **Output**: $\\hat{y}$\n",
    "\n",
    "For a single input $x$, the hidden neurons are given by:\n",
    "\n",
    "$$\\begin{aligned}\n",
    "\\text{Neuron } z_1: & \\quad a_1^{(1)} = w_{11}^{(1)} \\cdot x, && \\quad z_1 = g(a_1^{(1)}) = \\frac{1}{1 + e^{-a_1^{(1)}}}, \\\\\n",
    "\\text{Neuron } z_2: & \\quad a_2^{(1)} = w_{12}^{(1)} \\cdot x, && \\quad z_2 = g(a_2^{(1)}) = \\frac{1}{1 + e^{-a_2^{(1)}}}.\n",
    "\\end{aligned}\n",
    "$$\n",
    "\n",
    "Then the output neuron combines these two hidden neurons:\n",
    "\n",
    "$$\\begin{aligned}\n",
    "a_1^{(2)} &= w_{11}^{(2)} z_1 + w_{21}^{(2)} z_2, \\\\\n",
    "\\hat{y} &= g(a_1^{(2)}) = \\frac{1}{1 + e^{-a_1^{(2)}}}.\n",
    "\\end{aligned}\n",
    "$$\n",
    "\n",
    "We consider a **loss** (squared error w.r.t. a true label $y$):\n",
    "\n",
    "$$L = (y - \\hat{y})^2.$$\n",
    "\n",
    "Our goal is to **differentiate** $L$ with respect to the parameters:\n",
    "\n",
    "$$\\begin{aligned}\n",
    "w_{11}^{(1)},\\quad w_{12}^{(1)},\\quad w_{11}^{(2)},\\quad w_{21}^{(2)}.\n",
    "\\end{aligned}\n",
    "$$\n",
    "\n",
    "We will compute these derivatives in two ways:\n",
    "1. **Symbolic Differentiation** (analytical formulas)\n",
    "2. **Automatic Differentiation** (via PyTorch `backward()`)\n",
    "\n",
    "We will show that these two results match."
   ]
  },
  {
   "cell_type": "markdown",
   "id": "408f44d1",
   "metadata": {},
   "source": [
    "## PyTorch implementation"
   ]
  },
  {
   "cell_type": "markdown",
   "id": "2374dc7a",
   "metadata": {},
   "source": [
    "### Define the activation function and its derivative \n",
    "We will use the logistic sigmoid $g(a) = 1 / (1 + e^{-a})$ as the activation function. Its derivative with respect to $a$ is:\n",
    "\n",
    "$$\\frac{d}{da} g(a) = g(a) \\bigl(1 - g(a)\\bigr).$$\n",
    "\n",
    "However, for clarity, we can directly implement it as given in the example code:"
   ]
  },
  {
   "cell_type": "code",
   "execution_count": 21,
   "id": "0b0a363c",
   "metadata": {},
   "outputs": [],
   "source": [
    "def g(a):\n",
    "    \"\"\"\n",
    "    Sigmoid function g(a) = 1 / (1 + e^-a)\n",
    "    \"\"\"\n",
    "    return 1.0 / (1.0 + torch.exp(-a))\n",
    "\n",
    "def gp(a):\n",
    "    \"\"\"\n",
    "    Derivative of the sigmoid function g'(a)\n",
    "    = exp(-a) / (1 + exp(-a))^2\n",
    "    \"\"\"\n",
    "    return torch.exp(-a) / (1 + torch.exp(-a))**2"
   ]
  },
  {
   "cell_type": "markdown",
   "id": "a6c96419",
   "metadata": {},
   "source": [
    "### Define the working variables\n",
    "We will define:\n",
    "- A target value $y$\n",
    "- An input $x$\n",
    "- Four weights we wish to learn/differentiate:\n",
    "  - $w_{11}^{(1)}$ and $w_{12}^{(1)}$ for the hidden layer\n",
    "  - $w_{11}^{(2)}$ and $w_{21}^{(2)}$ for the output layer\n",
    "\n",
    "By setting `requires_grad=True`, PyTorch will keep track of operations involving these tensors, allowing automatic differentiation via the `backward()` call."
   ]
  },
  {
   "cell_type": "code",
   "execution_count": 22,
   "id": "64f9b7c6",
   "metadata": {},
   "outputs": [],
   "source": [
    "# Input\n",
    "x = torch.tensor([-1.7])  # A single scalar input\n",
    "\n",
    "# True target\n",
    "y = torch.tensor([-4.5])  # A single scalar target\n",
    "\n",
    "# Hidden layer weights\n",
    "w11_1 = torch.tensor([0.13], requires_grad=True)  # w_{11}^{(1)}\n",
    "w12_1 = torch.tensor([-2.0], requires_grad=True)  # w_{12}^{(1)}\n",
    "\n",
    "# Output layer weights\n",
    "w11_2 = torch.tensor([1.0], requires_grad=True)   # w_{11}^{(2)}\n",
    "w21_2 = torch.tensor([0.5], requires_grad=True)   # w_{21}^{(2)}"
   ]
  },
  {
   "cell_type": "markdown",
   "id": "642a7765",
   "metadata": {},
   "source": [
    "### Forward pass\n",
    "We compute:\n",
    "\n",
    "$$a_1^{(1)} = w_{11}^{(1)} x,\\quad\n",
    "a_2^{(1)} = w_{12}^{(1)} x,\\quad\n",
    "z_1 = g(a_1^{(1)}),\\quad z_2 = g(a_2^{(1)}),\\quad\n",
    "a_1^{(2)} = w_{11}^{(2)} z_1 + w_{21}^{(2)} z_2,\\quad\n",
    "\\hat{y} = g(a_1^{(2)})\n",
    "$$\n",
    "\n",
    "and finally the loss $L = (y - \\hat{y})^2$."
   ]
  },
  {
   "cell_type": "code",
   "execution_count": 23,
   "id": "64c8b471",
   "metadata": {},
   "outputs": [],
   "source": [
    "# Hidden neuron 1\n",
    "a1_1 = w11_1 * x\n",
    "z1   = g(a1_1)\n",
    "\n",
    "# Hidden neuron 2\n",
    "a2_1 = w12_1 * x\n",
    "z2   = g(a2_1)\n",
    "\n",
    "# Output neuron\n",
    "a1_2 = w11_2 * z1 + w21_2 * z2\n",
    "yhat = g(a1_2)\n",
    "\n",
    "# Loss\n",
    "L = (y - yhat)**2"
   ]
  },
  {
   "cell_type": "markdown",
   "id": "da00642e",
   "metadata": {},
   "source": [
    "### Symbolic gradients\n",
    "From the slides and from our direct symbolic differentiation, we have:\n",
    "\n",
    "$$\\begin{aligned}\n",
    "\\frac{\\partial L}{\\partial w_{11}^{(1)}} \n",
    "&= -2 \\,(y - \\hat{y})\\; g'(a_1^{(2)})\\; w_{11}^{(2)}\\; g'(a_1^{(1)})\\; x,\\\\\n",
    "\\frac{\\partial L}{\\partial w_{12}^{(1)}} \n",
    "&= -2 \\,(y - \\hat{y})\\; g'(a_1^{(2)})\\; w_{21}^{(2)}\\; g'(a_2^{(1)})\\; x,\\\\\n",
    "\\frac{\\partial L}{\\partial w_{11}^{(2)}} \n",
    "&= -2 \\,(y - \\hat{y})\\; g'(a_1^{(2)})\\; z_1,\\\\\n",
    "\\frac{\\partial L}{\\partial w_{21}^{(2)}} \n",
    "&= -2 \\,(y - \\hat{y})\\; g'(a_1^{(2)})\\; z_2.\n",
    "\\end{aligned}$$\n",
    "\n",
    "Let's compute these values explicitly in PyTorch (still using the same `gp` function for $g'(a)$)."
   ]
  },
  {
   "cell_type": "code",
   "execution_count": 24,
   "id": "23c8327b",
   "metadata": {},
   "outputs": [
    {
     "data": {
      "text/plain": [
       "(tensor([-0.8892], device='mps:0', grad_fn=<MulBackward0>),\n",
       " tensor([-0.0563], device='mps:0', grad_fn=<MulBackward0>),\n",
       " tensor([0.9424], device='mps:0', grad_fn=<MulBackward0>),\n",
       " tensor([2.0494], device='mps:0', grad_fn=<MulBackward0>))"
      ]
     },
     "execution_count": 24,
     "metadata": {},
     "output_type": "execute_result"
    }
   ],
   "source": [
    "# Symbolic gradients\n",
    "Sgrad_L_w11_1 = -2 * (y - yhat) * gp(a1_2) * w11_2 * gp(a1_1) * x\n",
    "Sgrad_L_w12_1 = -2 * (y - yhat) * gp(a1_2) * w21_2 * gp(a2_1) * x\n",
    "Sgrad_L_w11_2 = -2 * (y - yhat) * gp(a1_2) * z1\n",
    "Sgrad_L_w21_2 = -2 * (y - yhat) * gp(a1_2) * z2\n",
    "\n",
    "Sgrad_L_w11_1, Sgrad_L_w12_1, Sgrad_L_w11_2, Sgrad_L_w21_2"
   ]
  },
  {
   "cell_type": "markdown",
   "id": "ca466728",
   "metadata": {},
   "source": [
    "### Automatic differentiation\n",
    "We can then rely on PyTorch's **autograd** engine to compute the gradients for us. Simply call:\n",
    "\n",
    "```python\n",
    "L.backward()\n",
    "```\n",
    "\n",
    "and then retrieve the `.grad` attribute of each parameter of interest."
   ]
  },
  {
   "cell_type": "code",
   "execution_count": 25,
   "id": "aff9f75c",
   "metadata": {},
   "outputs": [
    {
     "data": {
      "text/plain": [
       "(tensor([-0.8892], device='mps:0'),\n",
       " tensor([-0.0563], device='mps:0'),\n",
       " tensor([0.9424], device='mps:0'),\n",
       " tensor([2.0494], device='mps:0'))"
      ]
     },
     "execution_count": 25,
     "metadata": {},
     "output_type": "execute_result"
    }
   ],
   "source": [
    "# Reset gradients (in case this cell is run multiple times)\n",
    "w11_1.grad = None\n",
    "w12_1.grad = None\n",
    "w11_2.grad = None\n",
    "w21_2.grad = None\n",
    "\n",
    "# Perform backprop\n",
    "L.backward()\n",
    "\n",
    "# Automatic gradients\n",
    "grad_L_w11_1 = w11_1.grad\n",
    "grad_L_w12_1 = w12_1.grad\n",
    "grad_L_w11_2 = w11_2.grad\n",
    "grad_L_w21_2 = w21_2.grad\n",
    "\n",
    "grad_L_w11_1, grad_L_w12_1, grad_L_w11_2, grad_L_w21_2"
   ]
  },
  {
   "cell_type": "markdown",
   "id": "cf8afeda",
   "metadata": {},
   "source": [
    "### Comparison of symbolic and automatic differentiation\n",
    "Finally, let's print them side by side to verify they match (or are very close, up to floating-point rounding)."
   ]
  },
  {
   "cell_type": "code",
   "execution_count": 26,
   "id": "da41f626",
   "metadata": {},
   "outputs": [
    {
     "name": "stdout",
     "output_type": "stream",
     "text": [
      "Loss L = 27.21538734436035\n",
      "\n",
      "--- dL/dw11^(2) ---\n",
      "Auto-grad: 0.942385196685791 \t Symbolic: 0.9423852562904358\n",
      "\n",
      "--- dL/dw21^(2) ---\n",
      "Auto-grad: 2.049447774887085 \t Symbolic: 2.049448013305664\n",
      "\n",
      "--- dL/dw11^(1) ---\n",
      "Auto-grad: -0.8891823887825012 \t Symbolic: -0.8891823887825012\n",
      "\n",
      "--- dL/dw12^(1) ---\n",
      "Auto-grad: -0.05625968053936958 \t Symbolic: -0.05625968798995018\n"
     ]
    }
   ],
   "source": [
    "print(\"Loss L =\", L.item())\n",
    "\n",
    "print(\"\\n--- dL/dw11^(2) ---\")\n",
    "print(\"Auto-grad:\", grad_L_w11_2.item(), \"\\t Symbolic:\", Sgrad_L_w11_2.item())\n",
    "\n",
    "print(\"\\n--- dL/dw21^(2) ---\")\n",
    "print(\"Auto-grad:\", grad_L_w21_2.item(), \"\\t Symbolic:\", Sgrad_L_w21_2.item())\n",
    "\n",
    "print(\"\\n--- dL/dw11^(1) ---\")\n",
    "print(\"Auto-grad:\", grad_L_w11_1.item(), \"\\t Symbolic:\", Sgrad_L_w11_1.item())\n",
    "\n",
    "print(\"\\n--- dL/dw12^(1) ---\")\n",
    "print(\"Auto-grad:\", grad_L_w12_1.item(), \"\\t Symbolic:\", Sgrad_L_w12_1.item())"
   ]
  },
  {
   "cell_type": "markdown",
   "id": "a236818c",
   "metadata": {},
   "source": [
    "In this exercise, we demonstrated that for our simple 2-hidden-neuron feedforward network:\n",
    "\n",
    "1. **Symbolic differentiation** (i.e., deriving the gradient expressions by hand)\n",
    "2. **Automatic differentiation** (i.e., via PyTorch's `backward()`)\n",
    "\n",
    "yield the **same** results, up to numerical precision. This is a powerful illustration of why automatic differentiation is so valuable: it **automates** what would otherwise be a lengthy (and error-prone) symbolic derivation process.\n",
    "\n",
    "Feel free to change the values of $x$, $y$, and the weights $w$ to see how the gradients match up in other situations.\n",
    "You can now expand this example to more complex network architectures or different activation and loss functions."
   ]
  },
  {
   "cell_type": "markdown",
   "id": "eb05fef2-c375-4b99-8770-f28aa30d0f6f",
   "metadata": {},
   "source": [
    "### Facial keypoints detection with PyTorch FCN and CNN architectures\n",
    "Facial keypoint detection is the task of identifying important landmarks on a human face (e.g., corners of the eyes, nose tip, mouth corners) in an image. These keypoints are crucial for many applications in computer vision:\n",
    "\n",
    "- Aligning faces for recognition or verification.\n",
    "- Tracking facial expressions for emotion detection.\n",
    "- Applying augmented reality filters or effects accurately on a face.\n",
    "\n",
    "In this exercise, we will build fully connected neural networks and convolutional neural networks to detect **15 keypoints** on **96x96 grayscale face images**. The network will take an image as input and output the $ (x,y) $ coordinates of the **15 facial keypoints**.\n",
    "\n",
    "Source: [danielnouri.org](https://danielnouri.org/notes/2014/12/17/using-convolutional-neural-nets-to-detect-facial-keypoints-tutorial/)"
   ]
  },
  {
   "cell_type": "markdown",
   "id": "33d707b8-ddb5-4e3a-8fb5-2d3568b3848a",
   "metadata": {},
   "source": [
    "### Dataset overview\n",
    "\n",
    "We will use the **Kaggle Facial Keypoints Detection** dataset ([Kaggle challenge webpage](https://www.kaggle.com/competitions/facial-keypoints-detection)). This dataset consists of a training set of **7,049** face images (96x96 pixels, grayscale). Each image has up to **15 keypoint coordinates** labeled (30 values: $ x $ and $ y $ for each of 15 facial landmarks). For example, the keypoints include the centers of the eyes, the tip of the nose, and the corners of the mouth.\n",
    "\n",
    "#### Data format\n",
    "The training data is provided as a CSV file (`training.csv`). Each row contains:\n",
    "\n",
    "- **30 columns** of keypoint coordinates: `left_eye_center_x`, `left_eye_center_y`, `right_eye_center_x`, ... etc. (15 keypoints $\\times$ 2). If a keypoint was not labeled for a given image, its value is missing.\n",
    "- An **Image** column containing 96x96 pixel intensity values (9216 numbers) in a single string, separated by spaces.\n",
    "\n",
    "If you downloaded this exercise from the Université Virtuelle, you should have a `training.csv` file in the `data/` directory. Now, let's load the training data using pandas and examine its structure.\n",
    "\n",
    "#### Missing values\n",
    "Not all images have all 15 keypoints annotated. In fact, only about 30% of the images have all 15 keypoints; the rest have some missing keypoint labels. Nearly all images have at least a few keypoints (e.g., eyes, nose, mouth) labeled, but many did not have the more peripheral points. In this tutorial, for simplicity, we will use only images with **complete keypoint data** (all 15 points). This means we'll discard images with any missing keypoint values. (In practice, one could use data augmentation or multi-stage training to leverage partially labeled images, but we will not cover that here.)"
   ]
  },
  {
   "cell_type": "markdown",
   "id": "68a00209-7de9-44d7-80fe-947f8c9273f2",
   "metadata": {},
   "source": [
    "In this exercise, you should:\n",
    "1. Explore the dataset\n",
    "2. Preprocess the dataset to use it with neural networks including:\n",
    "      - handling missing values\n",
    "      - converting the image data from strings to numeric arrays\n",
    "      - normalizing the pixel values\n",
    "      - reshaping the images\n",
    "      - preparing the keypoint coordinates labels\n",
    "3. Implement a fully connected neural network and compute the validated MSE\n",
    "4. Implement a convolutional neural network and compute the validated MSE\n",
    "5. Visualize the predictions of both models with respect to the true keypoints coordinates on images"
   ]
  },
  {
   "cell_type": "code",
   "execution_count": 27,
   "id": "001e4f24",
   "metadata": {},
   "outputs": [
    {
     "name": "stdout",
     "output_type": "stream",
     "text": [
      "Training data shape: (7049, 31)\n"
     ]
    },
    {
     "data": {
      "text/html": [
       "<div>\n",
       "<style scoped>\n",
       "    .dataframe tbody tr th:only-of-type {\n",
       "        vertical-align: middle;\n",
       "    }\n",
       "\n",
       "    .dataframe tbody tr th {\n",
       "        vertical-align: top;\n",
       "    }\n",
       "\n",
       "    .dataframe thead th {\n",
       "        text-align: right;\n",
       "    }\n",
       "</style>\n",
       "<table border=\"1\" class=\"dataframe\">\n",
       "  <thead>\n",
       "    <tr style=\"text-align: right;\">\n",
       "      <th></th>\n",
       "      <th>left_eye_center_x</th>\n",
       "      <th>left_eye_center_y</th>\n",
       "      <th>right_eye_center_x</th>\n",
       "      <th>right_eye_center_y</th>\n",
       "      <th>left_eye_inner_corner_x</th>\n",
       "      <th>left_eye_inner_corner_y</th>\n",
       "      <th>left_eye_outer_corner_x</th>\n",
       "      <th>left_eye_outer_corner_y</th>\n",
       "      <th>right_eye_inner_corner_x</th>\n",
       "      <th>right_eye_inner_corner_y</th>\n",
       "      <th>...</th>\n",
       "      <th>nose_tip_y</th>\n",
       "      <th>mouth_left_corner_x</th>\n",
       "      <th>mouth_left_corner_y</th>\n",
       "      <th>mouth_right_corner_x</th>\n",
       "      <th>mouth_right_corner_y</th>\n",
       "      <th>mouth_center_top_lip_x</th>\n",
       "      <th>mouth_center_top_lip_y</th>\n",
       "      <th>mouth_center_bottom_lip_x</th>\n",
       "      <th>mouth_center_bottom_lip_y</th>\n",
       "      <th>Image</th>\n",
       "    </tr>\n",
       "  </thead>\n",
       "  <tbody>\n",
       "    <tr>\n",
       "      <th>0</th>\n",
       "      <td>66.033564</td>\n",
       "      <td>39.002274</td>\n",
       "      <td>30.227008</td>\n",
       "      <td>36.421678</td>\n",
       "      <td>59.582075</td>\n",
       "      <td>39.647423</td>\n",
       "      <td>73.130346</td>\n",
       "      <td>39.969997</td>\n",
       "      <td>36.356571</td>\n",
       "      <td>37.389402</td>\n",
       "      <td>...</td>\n",
       "      <td>57.066803</td>\n",
       "      <td>61.195308</td>\n",
       "      <td>79.970165</td>\n",
       "      <td>28.614496</td>\n",
       "      <td>77.388992</td>\n",
       "      <td>43.312602</td>\n",
       "      <td>72.935459</td>\n",
       "      <td>43.130707</td>\n",
       "      <td>84.485774</td>\n",
       "      <td>238 236 237 238 240 240 239 241 241 243 240 23...</td>\n",
       "    </tr>\n",
       "    <tr>\n",
       "      <th>1</th>\n",
       "      <td>64.332936</td>\n",
       "      <td>34.970077</td>\n",
       "      <td>29.949277</td>\n",
       "      <td>33.448715</td>\n",
       "      <td>58.856170</td>\n",
       "      <td>35.274349</td>\n",
       "      <td>70.722723</td>\n",
       "      <td>36.187166</td>\n",
       "      <td>36.034723</td>\n",
       "      <td>34.361532</td>\n",
       "      <td>...</td>\n",
       "      <td>55.660936</td>\n",
       "      <td>56.421447</td>\n",
       "      <td>76.352000</td>\n",
       "      <td>35.122383</td>\n",
       "      <td>76.047660</td>\n",
       "      <td>46.684596</td>\n",
       "      <td>70.266553</td>\n",
       "      <td>45.467915</td>\n",
       "      <td>85.480170</td>\n",
       "      <td>219 215 204 196 204 211 212 200 180 168 178 19...</td>\n",
       "    </tr>\n",
       "    <tr>\n",
       "      <th>2</th>\n",
       "      <td>65.057053</td>\n",
       "      <td>34.909642</td>\n",
       "      <td>30.903789</td>\n",
       "      <td>34.909642</td>\n",
       "      <td>59.412000</td>\n",
       "      <td>36.320968</td>\n",
       "      <td>70.984421</td>\n",
       "      <td>36.320968</td>\n",
       "      <td>37.678105</td>\n",
       "      <td>36.320968</td>\n",
       "      <td>...</td>\n",
       "      <td>53.538947</td>\n",
       "      <td>60.822947</td>\n",
       "      <td>73.014316</td>\n",
       "      <td>33.726316</td>\n",
       "      <td>72.732000</td>\n",
       "      <td>47.274947</td>\n",
       "      <td>70.191789</td>\n",
       "      <td>47.274947</td>\n",
       "      <td>78.659368</td>\n",
       "      <td>144 142 159 180 188 188 184 180 167 132 84 59 ...</td>\n",
       "    </tr>\n",
       "    <tr>\n",
       "      <th>3</th>\n",
       "      <td>65.225739</td>\n",
       "      <td>37.261774</td>\n",
       "      <td>32.023096</td>\n",
       "      <td>37.261774</td>\n",
       "      <td>60.003339</td>\n",
       "      <td>39.127179</td>\n",
       "      <td>72.314713</td>\n",
       "      <td>38.380967</td>\n",
       "      <td>37.618643</td>\n",
       "      <td>38.754115</td>\n",
       "      <td>...</td>\n",
       "      <td>54.166539</td>\n",
       "      <td>65.598887</td>\n",
       "      <td>72.703722</td>\n",
       "      <td>37.245496</td>\n",
       "      <td>74.195478</td>\n",
       "      <td>50.303165</td>\n",
       "      <td>70.091687</td>\n",
       "      <td>51.561183</td>\n",
       "      <td>78.268383</td>\n",
       "      <td>193 192 193 194 194 194 193 192 168 111 50 12 ...</td>\n",
       "    </tr>\n",
       "    <tr>\n",
       "      <th>4</th>\n",
       "      <td>66.725301</td>\n",
       "      <td>39.621261</td>\n",
       "      <td>32.244810</td>\n",
       "      <td>38.042032</td>\n",
       "      <td>58.565890</td>\n",
       "      <td>39.621261</td>\n",
       "      <td>72.515926</td>\n",
       "      <td>39.884466</td>\n",
       "      <td>36.982380</td>\n",
       "      <td>39.094852</td>\n",
       "      <td>...</td>\n",
       "      <td>64.889521</td>\n",
       "      <td>60.671411</td>\n",
       "      <td>77.523239</td>\n",
       "      <td>31.191755</td>\n",
       "      <td>76.997301</td>\n",
       "      <td>44.962748</td>\n",
       "      <td>73.707387</td>\n",
       "      <td>44.227141</td>\n",
       "      <td>86.871166</td>\n",
       "      <td>147 148 160 196 215 214 216 217 219 220 206 18...</td>\n",
       "    </tr>\n",
       "  </tbody>\n",
       "</table>\n",
       "<p>5 rows × 31 columns</p>\n",
       "</div>"
      ],
      "text/plain": [
       "   left_eye_center_x  left_eye_center_y  right_eye_center_x  \\\n",
       "0          66.033564          39.002274           30.227008   \n",
       "1          64.332936          34.970077           29.949277   \n",
       "2          65.057053          34.909642           30.903789   \n",
       "3          65.225739          37.261774           32.023096   \n",
       "4          66.725301          39.621261           32.244810   \n",
       "\n",
       "   right_eye_center_y  left_eye_inner_corner_x  left_eye_inner_corner_y  \\\n",
       "0           36.421678                59.582075                39.647423   \n",
       "1           33.448715                58.856170                35.274349   \n",
       "2           34.909642                59.412000                36.320968   \n",
       "3           37.261774                60.003339                39.127179   \n",
       "4           38.042032                58.565890                39.621261   \n",
       "\n",
       "   left_eye_outer_corner_x  left_eye_outer_corner_y  right_eye_inner_corner_x  \\\n",
       "0                73.130346                39.969997                 36.356571   \n",
       "1                70.722723                36.187166                 36.034723   \n",
       "2                70.984421                36.320968                 37.678105   \n",
       "3                72.314713                38.380967                 37.618643   \n",
       "4                72.515926                39.884466                 36.982380   \n",
       "\n",
       "   right_eye_inner_corner_y  ...  nose_tip_y  mouth_left_corner_x  \\\n",
       "0                 37.389402  ...   57.066803            61.195308   \n",
       "1                 34.361532  ...   55.660936            56.421447   \n",
       "2                 36.320968  ...   53.538947            60.822947   \n",
       "3                 38.754115  ...   54.166539            65.598887   \n",
       "4                 39.094852  ...   64.889521            60.671411   \n",
       "\n",
       "   mouth_left_corner_y  mouth_right_corner_x  mouth_right_corner_y  \\\n",
       "0            79.970165             28.614496             77.388992   \n",
       "1            76.352000             35.122383             76.047660   \n",
       "2            73.014316             33.726316             72.732000   \n",
       "3            72.703722             37.245496             74.195478   \n",
       "4            77.523239             31.191755             76.997301   \n",
       "\n",
       "   mouth_center_top_lip_x  mouth_center_top_lip_y  mouth_center_bottom_lip_x  \\\n",
       "0               43.312602               72.935459                  43.130707   \n",
       "1               46.684596               70.266553                  45.467915   \n",
       "2               47.274947               70.191789                  47.274947   \n",
       "3               50.303165               70.091687                  51.561183   \n",
       "4               44.962748               73.707387                  44.227141   \n",
       "\n",
       "   mouth_center_bottom_lip_y  \\\n",
       "0                  84.485774   \n",
       "1                  85.480170   \n",
       "2                  78.659368   \n",
       "3                  78.268383   \n",
       "4                  86.871166   \n",
       "\n",
       "                                               Image  \n",
       "0  238 236 237 238 240 240 239 241 241 243 240 23...  \n",
       "1  219 215 204 196 204 211 212 200 180 168 178 19...  \n",
       "2  144 142 159 180 188 188 184 180 167 132 84 59 ...  \n",
       "3  193 192 193 194 194 194 193 192 168 111 50 12 ...  \n",
       "4  147 148 160 196 215 214 216 217 219 220 206 18...  \n",
       "\n",
       "[5 rows x 31 columns]"
      ]
     },
     "execution_count": 27,
     "metadata": {},
     "output_type": "execute_result"
    }
   ],
   "source": [
    "import pandas as pd\n",
    "\n",
    "# Load the training data\n",
    "df = pd.read_csv('facial-keypoints-detection/training.csv')\n",
    "print(\"Training data shape:\", df.shape)\n",
    "df.head(5)  # show first 5 rows as an example"
   ]
  },
  {
   "cell_type": "markdown",
   "id": "aed8ae88-44f2-4e40-a6b8-d16f44e4d6d0",
   "metadata": {},
   "source": [
    "This will show the DataFrame with columns for each keypoint and the \"Image\" column containing pixel values. Let's check how many values are present in each column and how many are missing:"
   ]
  },
  {
   "cell_type": "code",
   "execution_count": 28,
   "id": "1d212ab4",
   "metadata": {},
   "outputs": [
    {
     "name": "stdout",
     "output_type": "stream",
     "text": [
      "left_eye_center_x            7039\n",
      "left_eye_center_y            7039\n",
      "right_eye_center_x           7036\n",
      "right_eye_center_y           7036\n",
      "left_eye_inner_corner_x      2271\n",
      "left_eye_inner_corner_y      2271\n",
      "left_eye_outer_corner_x      2267\n",
      "left_eye_outer_corner_y      2267\n",
      "right_eye_inner_corner_x     2268\n",
      "right_eye_inner_corner_y     2268\n",
      "right_eye_outer_corner_x     2268\n",
      "right_eye_outer_corner_y     2268\n",
      "left_eyebrow_inner_end_x     2270\n",
      "left_eyebrow_inner_end_y     2270\n",
      "left_eyebrow_outer_end_x     2225\n",
      "left_eyebrow_outer_end_y     2225\n",
      "right_eyebrow_inner_end_x    2270\n",
      "right_eyebrow_inner_end_y    2270\n",
      "right_eyebrow_outer_end_x    2236\n",
      "right_eyebrow_outer_end_y    2236\n",
      "nose_tip_x                   7049\n",
      "nose_tip_y                   7049\n",
      "mouth_left_corner_x          2269\n",
      "mouth_left_corner_y          2269\n",
      "mouth_right_corner_x         2270\n",
      "mouth_right_corner_y         2270\n",
      "mouth_center_top_lip_x       2275\n",
      "mouth_center_top_lip_y       2275\n",
      "mouth_center_bottom_lip_x    7016\n",
      "mouth_center_bottom_lip_y    7016\n",
      "Image                        7049\n",
      "dtype: int64\n"
     ]
    }
   ],
   "source": [
    "# Count non-null values in each column\n",
    "print(df.count())"
   ]
  },
  {
   "cell_type": "markdown",
   "id": "0d13d03b-acd4-4588-a393-4df03bfe1d2b",
   "metadata": {},
   "source": [
    "From this, we can see which keypoint columns have missing values. We expect some columns to have 7049 values (no missing data for those keypoints) and others to have fewer (indicating missing labels). If a column has fewer than 7049 non-null entries, the difference is the number of missing values."
   ]
  },
  {
   "cell_type": "markdown",
   "id": "35b5a656-f2f0-4b89-b935-efccf697a8b5",
   "metadata": {},
   "source": [
    "## Data exploration\n",
    "\n",
    "Before training a model, it's important to understand the dataset. We will:\n",
    "\n",
    "1. Identify how many keypoint annotations are missing.\n",
    "2. Visualize a few images with their annotated keypoints to get an intuition of the task.\n",
    "\n",
    "### Missing Values\n",
    "We already counted non-null values. Let's quantify missing data more directly:"
   ]
  },
  {
   "cell_type": "code",
   "execution_count": 29,
   "id": "3b8c4d1f",
   "metadata": {},
   "outputs": [
    {
     "name": "stdout",
     "output_type": "stream",
     "text": [
      "Missing values per column:\n",
      "left_eye_center_x              10\n",
      "left_eye_center_y              10\n",
      "right_eye_center_x             13\n",
      "right_eye_center_y             13\n",
      "left_eye_inner_corner_x      4778\n",
      "left_eye_inner_corner_y      4778\n",
      "left_eye_outer_corner_x      4782\n",
      "left_eye_outer_corner_y      4782\n",
      "right_eye_inner_corner_x     4781\n",
      "right_eye_inner_corner_y     4781\n",
      "right_eye_outer_corner_x     4781\n",
      "right_eye_outer_corner_y     4781\n",
      "left_eyebrow_inner_end_x     4779\n",
      "left_eyebrow_inner_end_y     4779\n",
      "left_eyebrow_outer_end_x     4824\n",
      "left_eyebrow_outer_end_y     4824\n",
      "right_eyebrow_inner_end_x    4779\n",
      "right_eyebrow_inner_end_y    4779\n",
      "right_eyebrow_outer_end_x    4813\n",
      "right_eyebrow_outer_end_y    4813\n",
      "nose_tip_x                      0\n",
      "nose_tip_y                      0\n",
      "mouth_left_corner_x          4780\n",
      "mouth_left_corner_y          4780\n",
      "mouth_right_corner_x         4779\n",
      "mouth_right_corner_y         4779\n",
      "mouth_center_top_lip_x       4774\n",
      "mouth_center_top_lip_y       4774\n",
      "mouth_center_bottom_lip_x      33\n",
      "mouth_center_bottom_lip_y      33\n",
      "Image                           0\n",
      "dtype: int64\n"
     ]
    }
   ],
   "source": [
    "# Check total missing values per column\n",
    "missing_counts = df.isnull().sum()\n",
    "print(\"Missing values per column:\")\n",
    "print(missing_counts)"
   ]
  },
  {
   "cell_type": "markdown",
   "id": "203da5a8-6de6-4d99-8306-7e409f95ee52",
   "metadata": {},
   "source": [
    "You should see that some keypoint columns (e.g., `left_eye_center_x`) have very few missing values, while others (e.g., some mouth or eyebrow points) have thousands of missing entries. In fact, only 2,140 images have **all** 15 keypoints labeled, meaning the remainder have some missing points. We will handle this in preprocessing by removing incomplete rows.\n",
    "\n",
    "### Sample visualization\n",
    "Let's visualize some of the images with their keypoints to understand the data. We will pick a few examples (ensuring they have no missing keypoints) and plot them in a grid."
   ]
  },
  {
   "cell_type": "code",
   "execution_count": 30,
   "id": "4007115f",
   "metadata": {},
   "outputs": [
    {
     "name": "stdout",
     "output_type": "stream",
     "text": [
      "Number of complete cases (no missing keypoints): 2140\n"
     ]
    },
    {
     "data": {
      "image/png": "[encoded data removed]",
      "text/plain": [
       "<Figure size 1500x1500 with 9 Axes>"
      ]
     },
     "metadata": {},
     "output_type": "display_data"
    }
   ],
   "source": [
    "df_complete = df.dropna().reset_index(drop=True)\n",
    "print(\"Number of complete cases (no missing keypoints):\", len(df_complete))\n",
    "\n",
    "sample_images = df_complete['Image'].iloc[:9].values\n",
    "sample_images = [np.fromstring(img_str, sep=' ').reshape(96, 96) for img_str in sample_images]\n",
    "sample_keypoints = df_complete.iloc[:9, :-1].values  # first 30 columns are keypoints\n",
    "\n",
    "fig, axes = plt.subplots(3, 3, figsize=(10, 10))\n",
    "axes = axes.flatten()\n",
    "for i in range(9):\n",
    "    axes[i].imshow(sample_images[i], cmap='gray')\n",
    "    # Plot keypoints as red dots\n",
    "    kp = sample_keypoints[i]\n",
    "    axes[i].scatter(kp[0::2], kp[1::2], c='red', s=15)\n",
    "    axes[i].axis('off')\n",
    "plt.tight_layout()\n",
    "plt.show()"
   ]
  },
  {
   "cell_type": "markdown",
   "id": "2aab3f44-2dc4-4685-8eca-43a26f4e6b0f",
   "metadata": {},
   "source": [
    "We see 9 face images with red dots marking the locations of eyes, nose, mouth, etc. This visual check helps verify that the keypoints line up with facial features (for instance, dots around the eyes, nose, and mouth)."
   ]
  },
  {
   "cell_type": "markdown",
   "id": "3c267d99-6baa-4ee6-937b-f4b14d4263b1",
   "metadata": {},
   "source": [
    "## Data preprocessing\n",
    "\n",
    "Next, we need to prepare the data for training a PyTorch model. This involves:\n",
    "\n",
    "1. **Handling missing keypoint values**: We'll simplify by using only the images that have all 15 keypoints labeled.\n",
    "2. **Converting the image data** from strings to numeric arrays.\n",
    "3. **Normalizing** the pixel values (scaling them to $[0,1]$) by dividing by 255.\n",
    "4. **Reshaping** the images to the proper format ($ (N, 1, 96, 96) $ for a single-channel image).\n",
    "5. **Preparing the keypoint coordinates** array of shape ($ N, 30 $). Each sample has 30 target values: 15 $ x $-coordinates and 15 $ y $-coordinates.\n",
    "\n",
    "We encourage you to try at home to use more sophisticated data augmentation strategies or partial labeling approaches, but we'll keep things simple here."
   ]
  },
  {
   "cell_type": "code",
   "execution_count": 31,
   "id": "01870ed8",
   "metadata": {},
   "outputs": [
    {
     "name": "stdout",
     "output_type": "stream",
     "text": [
      "Remaining training samples after dropping missing: 2140\n"
     ]
    },
    {
     "name": "stdout",
     "output_type": "stream",
     "text": [
      "X_fcn shape: (2140, 9216) y shape: (2140, 30)\n",
      "X_cnn shape: (2140, 1, 96, 96) y shape: (2140, 30)\n"
     ]
    }
   ],
   "source": [
    "# 1. Drop rows with missing values\n",
    "df = df.dropna().reset_index(drop=True)\n",
    "print(\"Remaining training samples after dropping missing:\", len(df))\n",
    "\n",
    "# 2. Convert the 'Image' column from strings to numpy arrays of shape (96,96)\n",
    "df['Image'] = df['Image'].apply(lambda img: np.fromstring(img, sep=' ', dtype=np.float32))\n",
    "\n",
    "# 3. Normalize pixel values to [0,1]\n",
    "df['Image'] = df['Image'].apply(lambda img: img/255.0)\n",
    "\n",
    "# 4. Convert list of image arrays to a 4D numpy array for model input\n",
    "X_fcn = np.vstack(df['Image'].values)  # shape (N, 9216)\n",
    "X_cnn = np.vstack(df['Image'].values).reshape(-1, 1, 96, 96).astype(np.float32)  # (N, 1, 96, 96)\n",
    "\n",
    "# 5. Prepare keypoint targets as a numpy array\n",
    "y = df[df.columns[:-1]].values  # all columns except the 'Image' column\n",
    "y = y.astype(np.float32)\n",
    "print(\"X_fcn shape:\", X_fcn.shape, \"y shape:\", y.shape)\n",
    "print(\"X_cnn shape:\", X_cnn.shape, \"y shape:\", y.shape)"
   ]
  },
  {
   "cell_type": "markdown",
   "id": "3d1433b9-9624-48cd-8af8-4d810c563e63",
   "metadata": {},
   "source": [
    "## Fully connected neural network (FCN)"
   ]
  },
  {
   "cell_type": "markdown",
   "id": "fd7d0454-5e26-4a86-81ec-fafc490445c1",
   "metadata": {},
   "source": [
    "### FCN architecture\n",
    "\n",
    "We create a **Fully Connected Neural Network (FCN)** using PyTorch to regress the 30 keypoint coordinates $(x, y)$ directly from flattened grayscale images (of size $96 \\times 96 = 9216$ pixels). Feel free to adjust the hidden layer sizes and dropout probabilities based on your experimentation.<br>\n",
    "\n",
    "The architecture of our FCN is as follows:\n",
    "\n",
    "- **Fully Connected Layer 1:**  \n",
    "  - Input: 9216 features (flattened image)  \n",
    "  - Output: 1024 neurons  \n",
    "  - Activation: ReLU  \n",
    "  - Dropout: 0.3 probability (to reduce overfitting)\n",
    "\n",
    "- **Fully Connected Layer 2:**  \n",
    "  - Input: 1024 neurons  \n",
    "  - Output: 512 neurons  \n",
    "  - Activation: ReLU  \n",
    "  - Dropout: 0.3 probability\n",
    "\n",
    "- **Output Layer:**  \n",
    "  - Input: 512 neurons  \n",
    "  - Output: 30 neurons (coordinates for 15 keypoints)  \n",
    "  - Linear activation (no final nonlinearity, since this is a regression output)\n",
    "\n",
    "This FCN is trained using the **Mean Squared Error (MSE)** loss function to predict the $(x, y)$ coordinates of 15 facial keypoints from the flattened images."
   ]
  },
  {
   "cell_type": "code",
   "execution_count": 32,
   "id": "4f3dc9dd-148b-4cfb-bad2-e32dd0bbcae6",
   "metadata": {},
   "outputs": [],
   "source": [
    "class KeypointFCN(nn.Module):\n",
    "    def __init__(self):\n",
    "        super(KeypointFCN, self).__init__()\n",
    "        # We have 96*96 = 9216 input features per image\n",
    "        self.fc1 = nn.Linear(96*96, 1024)\n",
    "        self.dropout1 = nn.Dropout(0.3)\n",
    "        self.fc2 = nn.Linear(1024, 512)\n",
    "        self.dropout2 = nn.Dropout(0.3)\n",
    "        self.fc3 = nn.Linear(512, 30)  # 30 = (x,y) for 15 keypoints\n",
    "\n",
    "    def forward(self, x):\n",
    "        # x shape: (batch_size, 9216) \n",
    "        # (If x is not already flattened, do x = x.view(x.size(0), -1))\n",
    "        x = F.relu(self.fc1(x))\n",
    "        x = self.dropout1(x)\n",
    "        x = F.relu(self.fc2(x))\n",
    "        x = self.dropout2(x)\n",
    "        x = self.fc3(x)\n",
    "        return x"
   ]
  },
  {
   "cell_type": "markdown",
   "id": "10124ae9-cfad-41fe-82b8-263f6a8f5df4",
   "metadata": {},
   "source": [
    "### Split the Flattened Dataset for Training/Validation\n",
    "\n",
    "We already have $X_{fcn}$ of shape $(N, 9216)$ and $y$ of shape $(N, 30)$. We split them into training and validation sets:"
   ]
  },
  {
   "cell_type": "code",
   "execution_count": 33,
   "id": "014fcfb2-28a0-4549-88c3-5534793e885c",
   "metadata": {},
   "outputs": [
    {
     "name": "stdout",
     "output_type": "stream",
     "text": [
      "Training samples (FCN): 1926 Validation samples (FCN): 214\n"
     ]
    }
   ],
   "source": [
    "from sklearn.model_selection import train_test_split\n",
    "\n",
    "# 90/10 train-validation split using X_fcn\n",
    "X_train_fcn, X_val_fcn, y_train_fcn, y_val_fcn = train_test_split(\n",
    "    X_fcn, y, test_size=0.1, random_state=42\n",
    ")\n",
    "\n",
    "print(\"Training samples (FCN):\", len(X_train_fcn), \n",
    "      \"Validation samples (FCN):\", len(X_val_fcn))"
   ]
  },
  {
   "cell_type": "markdown",
   "id": "3fc8c0cb-e930-4220-863c-75975d312b76",
   "metadata": {},
   "source": [
    "### Create PyTorch Datasets and DataLoaders\n",
    "\n",
    "We'll create TensorDatasets from the NumPy arrays, then wrap them in DataLoaders for batching and shuffling. Notice that we **did not** reshape the input for the FCN version."
   ]
  },
  {
   "cell_type": "code",
   "execution_count": 34,
   "id": "c56342ee-94d8-47ae-99d5-c1ff46f7785b",
   "metadata": {},
   "outputs": [],
   "source": [
    "train_dataset_fcn = TensorDataset(\n",
    "    torch.from_numpy(X_train_fcn).to(device),  # shape: (batch_size, 9216)\n",
    "    torch.from_numpy(y_train_fcn).to(device)   # shape: (batch_size, 30)\n",
    ")\n",
    "val_dataset_fcn = TensorDataset(\n",
    "    torch.from_numpy(X_val_fcn).to(device),\n",
    "    torch.from_numpy(y_val_fcn).to(device)\n",
    ")\n",
    "\n",
    "g = torch.Generator(device=device)\n",
    "train_loader_fcn = DataLoader(train_dataset_fcn, batch_size=64, shuffle=True, generator=g)\n",
    "val_loader_fcn = DataLoader(val_dataset_fcn, batch_size=64, shuffle=False)"
   ]
  },
  {
   "cell_type": "markdown",
   "id": "fd6d066a-599e-4d5f-84e7-81ed4416be29",
   "metadata": {},
   "source": [
    "### Instantiate the FCN Model, define criterion and the optimizer\n",
    "\n",
    "We use an MSE loss since we’re doing keypoint regression. We use the Adam optimiser in this exercise but you can experiment with any optimizer you like (Adam, SGD, etc.):"
   ]
  },
  {
   "cell_type": "code",
   "execution_count": 35,
   "id": "81120e79-07a4-4385-9dd7-02ee90e0953b",
   "metadata": {},
   "outputs": [
    {
     "name": "stdout",
     "output_type": "stream",
     "text": [
      "----------------------------------------------------------------\n",
      "        Layer (type)               Output Shape         Param #\n",
      "================================================================\n",
      "            Linear-1                 [-1, 1024]       9,438,208\n",
      "           Dropout-2                 [-1, 1024]               0\n",
      "            Linear-3                  [-1, 512]         524,800\n",
      "           Dropout-4                  [-1, 512]               0\n",
      "            Linear-5                   [-1, 30]          15,390\n",
      "================================================================\n",
      "Total params: 9,978,398\n",
      "Trainable params: 9,978,398\n",
      "Non-trainable params: 0\n",
      "----------------------------------------------------------------\n",
      "Input size (MB): 0.04\n",
      "Forward/backward pass size (MB): 0.02\n",
      "Params size (MB): 38.06\n",
      "Estimated Total Size (MB): 38.12\n",
      "----------------------------------------------------------------\n"
     ]
    }
   ],
   "source": [
    "from torchsummary import summary\n",
    "fcn_model = KeypointFCN().to(device)\n",
    "summary(fcn_model.cpu(), X_train_fcn[0].shape)\n",
    "fcn_model = fcn_model.to(device)\n",
    "criterion_fcn = nn.MSELoss()  \n",
    "optimizer_fcn = optim.Adam(fcn_model.parameters(), lr=0.001)"
   ]
  },
  {
   "cell_type": "markdown",
   "id": "fd8f352a-7ca0-49be-8b5a-e50d2e648169",
   "metadata": {},
   "source": [
    "### Training with ongoing evaluation of the validation error"
   ]
  },
  {
   "cell_type": "code",
   "execution_count": 36,
   "id": "27fedf86-83a2-43c4-be9e-12dea97c527a",
   "metadata": {},
   "outputs": [
    {
     "data": {
      "application/vnd.jupyter.widget-view+json": {
       "model_id": "d58dd4208f8a45a9862840b31f5bc083",
       "version_major": 2,
       "version_minor": 0
      },
      "text/plain": [
       "  0%|          | 0/20 [00:00<?, ?it/s]"
      ]
     },
     "metadata": {},
     "output_type": "display_data"
    }
   ],
   "source": [
    "from tqdm.auto import tqdm\n",
    "epochs = 20\n",
    "for epoch in (pbar:=tqdm(range(1, epochs+1))):\n",
    "    # --- Training ---\n",
    "    fcn_model.train()\n",
    "    train_loss = 0.0\n",
    "    for batch_images, batch_keypoints in train_loader_fcn:\n",
    "        outputs = fcn_model(batch_images)\n",
    "        loss = criterion_fcn(outputs, batch_keypoints)\n",
    "\n",
    "        optimizer_fcn.zero_grad()\n",
    "        loss.backward()\n",
    "        optimizer_fcn.step()\n",
    "\n",
    "        train_loss += loss.item() * batch_images.size(0)\n",
    "    train_loss /= len(train_loader_fcn.dataset)\n",
    "\n",
    "    # --- Validation ---\n",
    "    fcn_model.eval()\n",
    "    val_loss = 0.0\n",
    "    with torch.no_grad():\n",
    "        for batch_images, batch_keypoints in val_loader_fcn:\n",
    "            preds = fcn_model(batch_images)\n",
    "            loss = criterion_fcn(preds, batch_keypoints)\n",
    "            val_loss += loss.item() * batch_images.size(0)\n",
    "    val_loss /= len(val_loader_fcn.dataset)\n",
    "\n",
    "    pbar.set_description(f\"Epoch {epoch}/{epochs} - Train Loss: {train_loss:.4f} - Val Loss: {val_loss:.4f}\")"
   ]
  },
  {
   "cell_type": "markdown",
   "id": "ed5bd3e7-97af-4774-abd3-7900c4ab2e8a",
   "metadata": {},
   "source": [
    "### Evaluate on validation set\n",
    "\n",
    "After the training completes, we can compute the validation set predictions and compute appropriate metrics to estimate the performance of the fully connected neural network model:"
   ]
  },
  {
   "cell_type": "code",
   "execution_count": 37,
   "id": "8db2bffa-2981-4117-b14e-d5e02001deb3",
   "metadata": {},
   "outputs": [
    {
     "name": "stdout",
     "output_type": "stream",
     "text": [
      "Validation RMSE (FCN): 9.839 pixels\n"
     ]
    }
   ],
   "source": [
    "fcn_model.eval()\n",
    "with torch.no_grad():\n",
    "    val_preds_fcn = fcn_model(torch.Tensor(X_val_fcn).to(device)).cpu().numpy()\n",
    "    \n",
    "val_truth_fcn = y_val_fcn\n",
    "mse_val_fcn = np.mean((val_preds_fcn - val_truth_fcn)**2)\n",
    "rmse_val_fcn = np.sqrt(mse_val_fcn)\n",
    "\n",
    "print(f\"Validation RMSE (FCN): {rmse_val_fcn:.3f} pixels\")"
   ]
  },
  {
   "cell_type": "markdown",
   "id": "85697318-2d8b-4933-bc2f-4f16ce9122af",
   "metadata": {},
   "source": [
    "## Convolutional neural network\n",
    "\n",
    "We will create a Convolutional Neural Network (CNN) to **regress** the 30 keypoint coordinates from the input image. CNNs are highly effective in image analysis as they can automatically learn spatial hierarchies of features from images – from low-level edges to high-level shapes – which makes them well-suited for detecting patterns like facial features.<br> \n",
    "\n",
    "The architecture of our CNN will be as follows:\n",
    "\n",
    "1. **Conv Layer 1**: 1 input channel (grayscale) -> 32 filters, kernel size 3x3, activation ReLU, followed by Max Pooling (2x2).\n",
    "2. **Conv Layer 2**: 32 -> 64 filters, 3x3, ReLU, followed by Max Pooling (2x2).\n",
    "3. **Conv Layer 3**: 64 -> 128 filters, 3x3, ReLU, followed by Max Pooling (2x2).\n",
    "4. **Flatten**: Flatten the feature maps into a vector.\n",
    "5. **Fully Connected 1**: 256 neurons, ReLU, with Dropout (to reduce overfitting).\n",
    "6. **Fully Connected 2**: 128 neurons, ReLU, with Dropout.\n",
    "7. **Output Layer**: 30 outputs (the $ x,y $ coordinates for 15 keypoints), linear activation (no final nonlinearity, since this is a regression output).\n",
    "\n",
    "Dropout layers will help regularize the network by randomly dropping a fraction of neurons during training, which can improve generalization. We expect the CNN to learn to detect facial features through the convolutional layers (which capture local patterns like edges, corners of eyes/mouth, etc.), and the fully connected layers will combine these to predict the precise coordinates."
   ]
  },
  {
   "cell_type": "code",
   "execution_count": 38,
   "id": "536d82aa",
   "metadata": {},
   "outputs": [],
   "source": [
    "class KeypointCNN(nn.Module):\n",
    "    def __init__(self):\n",
    "        super(KeypointCNN, self).__init__()\n",
    "        # Convolutional layers\n",
    "        self.conv1 = nn.Conv2d(1, 32, kernel_size=3)   # 96x96 -> 94x94 (then 47x47 after pool)\n",
    "        self.conv2 = nn.Conv2d(32, 64, kernel_size=3)  # 47x47 -> 45x45 (then 22x22 after pool)\n",
    "        self.conv3 = nn.Conv2d(64, 128, kernel_size=3) # 22x22 -> 20x20 (then 10x10 after pool)\n",
    "        self.pool = nn.MaxPool2d(2, 2)\n",
    "\n",
    "        # Dropout layers\n",
    "        self.dropout1 = nn.Dropout(0.1)\n",
    "        self.dropout2 = nn.Dropout(0.2)\n",
    "\n",
    "        # Fully connected layers\n",
    "        self.fc1 = nn.Linear(128 * 10 * 10, 256)  # 128 feature maps * 10 * 10\n",
    "        self.fc2 = nn.Linear(256, 128)\n",
    "        self.fc3 = nn.Linear(128, 30)  # 30 outputs (x,y for 15 keypoints)\n",
    "        \n",
    "    def forward(self, x):\n",
    "        # Three conv layers with ReLU and pooling\n",
    "        x = self.pool(F.relu(self.conv1(x)))\n",
    "        x = self.pool(F.relu(self.conv2(x)))\n",
    "        x = self.pool(F.relu(self.conv3(x)))\n",
    "\n",
    "        # Flatten\n",
    "        x = x.view(x.size(0), -1)\n",
    "\n",
    "        # Fully connected layers with dropout and ReLU\n",
    "        x = F.relu(self.fc1(x))\n",
    "        x = self.dropout1(x)\n",
    "        x = F.relu(self.fc2(x))\n",
    "        x = self.dropout2(x)\n",
    "        x = self.fc3(x)\n",
    "        return x"
   ]
  },
  {
   "cell_type": "markdown",
   "id": "e59382cd-f870-4c1e-b240-85358c625042",
   "metadata": {},
   "source": [
    "## Training the model\n",
    "\n",
    "Now, let's train the model on our training data and monitor its performance on the validation set.\n",
    "\n",
    "- **Data Loaders**: We'll use PyTorch `DataLoader` to batch and shuffle the data for training and to batch the validation data.\n",
    "- **Loss Function**: This is a regression problem (predicting continuous coordinate values), so a common choice is **Mean Squared Error** (`nn.MSELoss`) in PyTorch.\n",
    "- **Optimizer**: We'll use **Adam** for efficient stochastic gradient descent.\n",
    "- **Training Loop**: We'll train for a number of epochs (iterations over the whole training set). In each epoch:\n",
    "  1. Set the model to training mode.\n",
    "  2. Loop over mini-batches from the training loader.\n",
    "  3. For each batch, do a forward pass to get predictions, compute the loss, do a backward pass to compute gradients, and update weights.\n",
    "  4. Evaluate the model on the validation set after each epoch to track performance.\n"
   ]
  },
  {
   "cell_type": "code",
   "execution_count": 39,
   "id": "ebb54fda",
   "metadata": {},
   "outputs": [
    {
     "name": "stdout",
     "output_type": "stream",
     "text": [
      "Training samples: 1926 Validation samples: 214\n"
     ]
    }
   ],
   "source": [
    "from sklearn.model_selection import train_test_split\n",
    "\n",
    "# We'll do a 90/10 train-validation split\n",
    "X_train_cnn, X_val_cnn, y_train_cnn, y_val_cnn = train_test_split(X_cnn, y, test_size=0.1, random_state=42)\n",
    "print(\"Training samples:\", len(X_train_cnn), \"Validation samples:\", len(X_val_cnn))"
   ]
  },
  {
   "cell_type": "code",
   "execution_count": 40,
   "id": "fdaabac7-acdc-4885-9b5a-ab746adf7d73",
   "metadata": {},
   "outputs": [],
   "source": [
    "# Create TensorDatasets for train and validation\n",
    "train_dataset = TensorDataset(torch.from_numpy(X_train_cnn).to(device), torch.from_numpy(y_train_cnn).to(device))\n",
    "val_dataset = TensorDataset(torch.from_numpy(X_val_cnn).to(device), torch.from_numpy(y_val_cnn).to(device))\n",
    "\n",
    "# DataLoader for batching\n",
    "g = torch.Generator(device=device)\n",
    "train_loader = DataLoader(train_dataset, batch_size=64, shuffle=True, generator=g)\n",
    "val_loader = DataLoader(val_dataset, batch_size=64, shuffle=False)"
   ]
  },
  {
   "cell_type": "code",
   "execution_count": 41,
   "id": "7eaa0f44-0df2-46f2-b5c5-8ac1707c48f0",
   "metadata": {},
   "outputs": [
    {
     "name": "stdout",
     "output_type": "stream",
     "text": [
      "----------------------------------------------------------------\n",
      "        Layer (type)               Output Shape         Param #\n",
      "================================================================\n",
      "            Conv2d-1           [-1, 32, 94, 94]             320\n",
      "         MaxPool2d-2           [-1, 32, 47, 47]               0\n",
      "            Conv2d-3           [-1, 64, 45, 45]          18,496\n",
      "         MaxPool2d-4           [-1, 64, 22, 22]               0\n",
      "            Conv2d-5          [-1, 128, 20, 20]          73,856\n",
      "         MaxPool2d-6          [-1, 128, 10, 10]               0\n",
      "            Linear-7                  [-1, 256]       3,277,056\n",
      "           Dropout-8                  [-1, 256]               0\n",
      "            Linear-9                  [-1, 128]          32,896\n",
      "          Dropout-10                  [-1, 128]               0\n",
      "           Linear-11                   [-1, 30]           3,870\n",
      "================================================================\n",
      "Total params: 3,406,494\n",
      "Trainable params: 3,406,494\n",
      "Non-trainable params: 0\n",
      "----------------------------------------------------------------\n",
      "Input size (MB): 0.04\n",
      "Forward/backward pass size (MB): 4.42\n",
      "Params size (MB): 12.99\n",
      "Estimated Total Size (MB): 17.45\n",
      "----------------------------------------------------------------\n"
     ]
    }
   ],
   "source": [
    "cnn_model = KeypointCNN()\n",
    "summary(cnn_model.cpu(), X_train_cnn[0].shape)\n",
    "cnn_model = cnn_model.to(device)"
   ]
  },
  {
   "cell_type": "code",
   "execution_count": 42,
   "id": "da21f309",
   "metadata": {},
   "outputs": [
    {
     "data": {
      "application/vnd.jupyter.widget-view+json": {
       "model_id": "73060d2f451043f3961f18e3f0da1e33",
       "version_major": 2,
       "version_minor": 0
      },
      "text/plain": [
       "  0%|          | 0/20 [00:00<?, ?it/s]"
      ]
     },
     "metadata": {},
     "output_type": "display_data"
    }
   ],
   "source": [
    "criterion = nn.MSELoss()  # Mean Squared Error loss\n",
    "optimizer = optim.Adam(cnn_model.parameters(), lr=0.001)\n",
    "\n",
    "epochs = 20\n",
    "for epoch in (pbar:=tqdm(range(1, epochs+1))):\n",
    "    cnn_model.train()\n",
    "    train_loss = 0.0\n",
    "    for batch_images, batch_keypoints in train_loader:\n",
    "        images = batch_images\n",
    "        keypoints = batch_keypoints\n",
    "\n",
    "        outputs = cnn_model(images)\n",
    "        loss = criterion(outputs, keypoints)\n",
    "\n",
    "        optimizer.zero_grad()\n",
    "        loss.backward()\n",
    "        optimizer.step()\n",
    "\n",
    "        train_loss += loss.item() * images.size(0)\n",
    "    train_loss /= len(train_loader.dataset)\n",
    "\n",
    "    # Validation phase\n",
    "    cnn_model.eval()\n",
    "    val_loss = 0.0\n",
    "    with torch.no_grad():\n",
    "        for batch_images, batch_keypoints in val_loader:\n",
    "            images = batch_images\n",
    "            keypoints = batch_keypoints\n",
    "            preds = cnn_model(images)\n",
    "            loss = criterion(preds, keypoints)\n",
    "            val_loss += loss.item() * images.size(0)\n",
    "    val_loss /= len(val_loader.dataset)\n",
    "\n",
    "    pbar.set_description(f\"Epoch {epoch}/{epochs} - Training Loss: {train_loss:.4f} - Validation Loss: {val_loss:.4f}\")"
   ]
  },
  {
   "cell_type": "markdown",
   "id": "afad8c35-391f-4efc-ab66-4a6684d6cbd8",
   "metadata": {},
   "source": [
    "## Evaluation and results\n",
    "\n",
    "After training, we'll evaluate the model's performance. One common metric for this task is **Root Mean Squared Error (RMSE)** of the keypoint predictions. RMSE is the square root of MSE, giving an error in the same units as the coordinates (pixels). We will calculate RMSE on the validation set.\n",
    "\n",
    "For instance, an RMSE of 4.0 would mean on average the predictions are about 4 pixels away from the true keypoint positions."
   ]
  },
  {
   "cell_type": "code",
   "execution_count": 43,
   "id": "910187b4",
   "metadata": {},
   "outputs": [
    {
     "name": "stdout",
     "output_type": "stream",
     "text": [
      "Validation RMSE: 3.312 pixels\n"
     ]
    }
   ],
   "source": [
    "# Switch to evaluation mode\n",
    "cnn_model.eval()\n",
    "\n",
    "# Predict on the entire validation set\n",
    "with torch.no_grad():\n",
    "    val_preds = cnn_model(torch.Tensor(X_val_cnn).to(device)).cpu().numpy()\n",
    "\n",
    "# Compute RMSE on validation set\n",
    "val_truth = y_val_cnn  # actual keypoints\n",
    "mse_val = np.mean((val_preds - val_truth)**2)\n",
    "rmse_val = np.sqrt(mse_val)\n",
    "print(f\"Validation RMSE: {rmse_val:.3f} pixels\")"
   ]
  },
  {
   "cell_type": "markdown",
   "id": "02eb9d13-3e1c-4628-adb8-61e65a7844b7",
   "metadata": {},
   "source": [
    "### Visualizing predictions\n",
    "Finally, let's visualize some predictions to see how the model is performing. We'll take a few images from the validation set (which the model hasn't seen during training) and plot the image with:\n",
    "\n",
    "- The **ground truth** keypoints (in green)\n",
    "- The **predicted** keypoints (in red)"
   ]
  },
  {
   "cell_type": "code",
   "execution_count": 44,
   "id": "ab69d92f",
   "metadata": {},
   "outputs": [
    {
     "data": {
      "image/png": "[encoded data removed]",
      "text/plain": [
       "<Figure size 1500x900 with 5 Axes>"
      ]
     },
     "metadata": {},
     "output_type": "display_data"
    }
   ],
   "source": [
    "# Choose a few samples from validation to visualize\n",
    "num_samples_to_show = 5\n",
    "indices = np.random.choice(len(X_val), size=num_samples_to_show, replace=False)\n",
    "\n",
    "fig, axes = plt.subplots(1, num_samples_to_show, figsize=(10, 6))\n",
    "for i, idx in enumerate(indices):\n",
    "    img = X_val_fcn[idx].reshape(96, 96)\n",
    "    true_kp = y_val_fcn[idx]\n",
    "    cnn_pred_kp = val_preds[idx]\n",
    "    fcn_pred_kp = fcn_model(torch.tensor(X_val_fcn[idx].reshape(1, 96*96)).to(device)).cpu().detach().numpy()[0]\n",
    "\n",
    "    axes[i].imshow(img, cmap='gray')\n",
    "    # Plot true keypoints in green\n",
    "    axes[i].scatter(true_kp[0::2], true_kp[1::2], c='green', s=20, label='True')\n",
    "    # Plot predicted keypoints in red\n",
    "    axes[i].scatter(fcn_pred_kp[0::2], fcn_pred_kp[1::2], c='red', s=20, marker='x', label='Pred')\n",
    "    # Plot predicted keypoints in red\n",
    "    axes[i].scatter(cnn_pred_kp[0::2], cnn_pred_kp[1::2], c='blue', s=20, marker='x', label='Pred')\n",
    "    axes[i].axis('off')\n",
    "\n",
    "plt.tight_layout()\n",
    "plt.show()"
   ]
  },
  {
   "cell_type": "markdown",
   "id": "177817ad-1605-4e45-8a18-850fdb05f722",
   "metadata": {},
   "source": [
    "In the displayed images, **green** dots should mark the actual keypoint positions and **red** x's mark the model's predicted positions. Ideally, they will be close for most points. You might notice the model does well on prominent features like the eye centers or nose tip, but could be less accurate on some others, especially if the network hasn't fully converged or if data is limited. A deeper network or additional data augmentation could further improve performance."
   ]
  }
 ],
 "metadata": {
  "kernelspec": {
   "display_name": "Python 3 (ipykernel)",
   "language": "python",
   "name": "python3"
  },
  "language_info": {
   "codemirror_mode": {
    "name": "ipython",
    "version": 3
   },
   "file_extension": ".py",
   "mimetype": "text/x-python",
   "name": "python",
   "nbconvert_exporter": "python",
   "pygments_lexer": "ipython3",
   "version": "3.11.6"
  },
  "name": "Facial Keypoints Detection with PyTorch",
  "widgets": {
   "application/vnd.jupyter.widget-state+json": {
    "state": {
     "0531dea97052446db846a64c1eaf99dc": {
      "model_module": "@jupyter-widgets/controls",
      "model_module_version": "2.0.0",
      "model_name": "ProgressStyleModel",
      "state": {
       "_model_module": "@jupyter-widgets/controls",
       "_model_module_version": "2.0.0",
       "_model_name": "ProgressStyleModel",
       "_view_count": null,
       "_view_module": "@jupyter-widgets/base",
       "_view_module_version": "2.0.0",
       "_view_name": "StyleView",
       "bar_color": null,
       "description_width": ""
      }
     },
     "0a02926d1d984980ab92ecc5fe1b9b42": {
      "model_module": "@jupyter-widgets/controls",
      "model_module_version": "2.0.0",
      "model_name": "HTMLModel",
      "state": {
       "_dom_classes": [],
       "_model_module": "@jupyter-widgets/controls",
       "_model_module_version": "2.0.0",
       "_model_name": "HTMLModel",
       "_view_count": null,
       "_view_module": "@jupyter-widgets/controls",
       "_view_module_version": "2.0.0",
       "_view_name": "HTMLView",
       "description": "",
       "description_allow_html": false,
       "layout": "IPY_MODEL_3348a3dde61c411cb66456c2eba0c433",
       "placeholder": "​",
       "style": "IPY_MODEL_3fcf0b6d7504454286078cda87f8ccd9",
       "tabbable": null,
       "tooltip": null,
       "value": "Epoch 20/20 - Training Loss: 31.7350 - Validation Loss: 10.9711: 100%"
      }
     },
     "0e022ffc9c724e38a0bf6f5326a107a2": {
      "model_module": "@jupyter-widgets/base",
      "model_module_version": "2.0.0",
      "model_name": "LayoutModel",
      "state": {
       "_model_module": "@jupyter-widgets/base",
       "_model_module_version": "2.0.0",
       "_model_name": "LayoutModel",
       "_view_count": null,
       "_view_module": "@jupyter-widgets/base",
       "_view_module_version": "2.0.0",
       "_view_name": "LayoutView",
       "align_content": null,
       "align_items": null,
       "align_self": null,
       "border_bottom": null,
       "border_left": null,
       "border_right": null,
       "border_top": null,
       "bottom": null,
       "display": null,
       "flex": null,
       "flex_flow": null,
       "grid_area": null,
       "grid_auto_columns": null,
       "grid_auto_flow": null,
       "grid_auto_rows": null,
       "grid_column": null,
       "grid_gap": null,
       "grid_row": null,
       "grid_template_areas": null,
       "grid_template_columns": null,
       "grid_template_rows": null,
       "height": null,
       "justify_content": null,
       "justify_items": null,
       "left": null,
       "margin": null,
       "max_height": null,
       "max_width": null,
       "min_height": null,
       "min_width": null,
       "object_fit": null,
       "object_position": null,
       "order": null,
       "overflow": null,
       "padding": null,
       "right": null,
       "top": null,
       "visibility": null,
       "width": null
      }
     },
     "1b29f5df9a934dcc952adb3c7a6268f5": {
      "model_module": "@jupyter-widgets/controls",
      "model_module_version": "2.0.0",
      "model_name": "HTMLModel",
      "state": {
       "_dom_classes": [],
       "_model_module": "@jupyter-widgets/controls",
       "_model_module_version": "2.0.0",
       "_model_name": "HTMLModel",
       "_view_count": null,
       "_view_module": "@jupyter-widgets/controls",
       "_view_module_version": "2.0.0",
       "_view_name": "HTMLView",
       "description": "",
       "description_allow_html": false,
       "layout": "IPY_MODEL_a70534a618cf43debddb13b35917a108",
       "placeholder": "​",
       "style": "IPY_MODEL_7d5646abd16142fabc5229de0198f62d",
       "tabbable": null,
       "tooltip": null,
       "value": "Epoch 20/20 - Train Loss: 94.6216 - Val Loss: 96.8145: 100%"
      }
     },
     "3348a3dde61c411cb66456c2eba0c433": {
      "model_module": "@jupyter-widgets/base",
      "model_module_version": "2.0.0",
      "model_name": "LayoutModel",
      "state": {
       "_model_module": "@jupyter-widgets/base",
       "_model_module_version": "2.0.0",
       "_model_name": "LayoutModel",
       "_view_count": null,
       "_view_module": "@jupyter-widgets/base",
       "_view_module_version": "2.0.0",
       "_view_name": "LayoutView",
       "align_content": null,
       "align_items": null,
       "align_self": null,
       "border_bottom": null,
       "border_left": null,
       "border_right": null,
       "border_top": null,
       "bottom": null,
       "display": null,
       "flex": null,
       "flex_flow": null,
       "grid_area": null,
       "grid_auto_columns": null,
       "grid_auto_flow": null,
       "grid_auto_rows": null,
       "grid_column": null,
       "grid_gap": null,
       "grid_row": null,
       "grid_template_areas": null,
       "grid_template_columns": null,
       "grid_template_rows": null,
       "height": null,
       "justify_content": null,
       "justify_items": null,
       "left": null,
       "margin": null,
       "max_height": null,
       "max_width": null,
       "min_height": null,
       "min_width": null,
       "object_fit": null,
       "object_position": null,
       "order": null,
       "overflow": null,
       "padding": null,
       "right": null,
       "top": null,
       "visibility": null,
       "width": null
      }
     },
     "3fcf0b6d7504454286078cda87f8ccd9": {
      "model_module": "@jupyter-widgets/controls",
      "model_module_version": "2.0.0",
      "model_name": "HTMLStyleModel",
      "state": {
       "_model_module": "@jupyter-widgets/controls",
       "_model_module_version": "2.0.0",
       "_model_name": "HTMLStyleModel",
       "_view_count": null,
       "_view_module": "@jupyter-widgets/base",
       "_view_module_version": "2.0.0",
       "_view_name": "StyleView",
       "background": null,
       "description_width": "",
       "font_size": null,
       "text_color": null
      }
     },
     "5762f85042d54fc1996fff8a4f7c9702": {
      "model_module": "@jupyter-widgets/controls",
      "model_module_version": "2.0.0",
      "model_name": "FloatProgressModel",
      "state": {
       "_dom_classes": [],
       "_model_module": "@jupyter-widgets/controls",
       "_model_module_version": "2.0.0",
       "_model_name": "FloatProgressModel",
       "_view_count": null,
       "_view_module": "@jupyter-widgets/controls",
       "_view_module_version": "2.0.0",
       "_view_name": "ProgressView",
       "bar_style": "success",
       "description": "",
       "description_allow_html": false,
       "layout": "IPY_MODEL_f638a24a929b4875a33d9b92db2bd41e",
       "max": 20.0,
       "min": 0.0,
       "orientation": "horizontal",
       "style": "IPY_MODEL_0531dea97052446db846a64c1eaf99dc",
       "tabbable": null,
       "tooltip": null,
       "value": 20.0
      }
     },
     "6173bdd11bfa41858abaed51ab095326": {
      "model_module": "@jupyter-widgets/controls",
      "model_module_version": "2.0.0",
      "model_name": "HTMLStyleModel",
      "state": {
       "_model_module": "@jupyter-widgets/controls",
       "_model_module_version": "2.0.0",
       "_model_name": "HTMLStyleModel",
       "_view_count": null,
       "_view_module": "@jupyter-widgets/base",
       "_view_module_version": "2.0.0",
       "_view_name": "StyleView",
       "background": null,
       "description_width": "",
       "font_size": null,
       "text_color": null
      }
     },
     "688480aac85c4c0c97b298934a21bfac": {
      "model_module": "@jupyter-widgets/base",
      "model_module_version": "2.0.0",
      "model_name": "LayoutModel",
      "state": {
       "_model_module": "@jupyter-widgets/base",
       "_model_module_version": "2.0.0",
       "_model_name": "LayoutModel",
       "_view_count": null,
       "_view_module": "@jupyter-widgets/base",
       "_view_module_version": "2.0.0",
       "_view_name": "LayoutView",
       "align_content": null,
       "align_items": null,
       "align_self": null,
       "border_bottom": null,
       "border_left": null,
       "border_right": null,
       "border_top": null,
       "bottom": null,
       "display": null,
       "flex": null,
       "flex_flow": null,
       "grid_area": null,
       "grid_auto_columns": null,
       "grid_auto_flow": null,
       "grid_auto_rows": null,
       "grid_column": null,
       "grid_gap": null,
       "grid_row": null,
       "grid_template_areas": null,
       "grid_template_columns": null,
       "grid_template_rows": null,
       "height": null,
       "justify_content": null,
       "justify_items": null,
       "left": null,
       "margin": null,
       "max_height": null,
       "max_width": null,
       "min_height": null,
       "min_width": null,
       "object_fit": null,
       "object_position": null,
       "order": null,
       "overflow": null,
       "padding": null,
       "right": null,
       "top": null,
       "visibility": null,
       "width": null
      }
     },
     "73060d2f451043f3961f18e3f0da1e33": {
      "model_module": "@jupyter-widgets/controls",
      "model_module_version": "2.0.0",
      "model_name": "HBoxModel",
      "state": {
       "_dom_classes": [],
       "_model_module": "@jupyter-widgets/controls",
       "_model_module_version": "2.0.0",
       "_model_name": "HBoxModel",
       "_view_count": null,
       "_view_module": "@jupyter-widgets/controls",
       "_view_module_version": "2.0.0",
       "_view_name": "HBoxView",
       "box_style": "",
       "children": [
        "IPY_MODEL_0a02926d1d984980ab92ecc5fe1b9b42",
        "IPY_MODEL_f5f630ac8d1a4896804b626cd3335228",
        "IPY_MODEL_fb3ce6d91cc1438ba12b846cf6524433"
       ],
       "layout": "IPY_MODEL_972ffa07ed8348f1968137d4dc6144fc",
       "tabbable": null,
       "tooltip": null
      }
     },
     "7d5646abd16142fabc5229de0198f62d": {
      "model_module": "@jupyter-widgets/controls",
      "model_module_version": "2.0.0",
      "model_name": "HTMLStyleModel",
      "state": {
       "_model_module": "@jupyter-widgets/controls",
       "_model_module_version": "2.0.0",
       "_model_name": "HTMLStyleModel",
       "_view_count": null,
       "_view_module": "@jupyter-widgets/base",
       "_view_module_version": "2.0.0",
       "_view_name": "StyleView",
       "background": null,
       "description_width": "",
       "font_size": null,
       "text_color": null
      }
     },
     "88085bfee247496d9e5eb5384bdb5b10": {
      "model_module": "@jupyter-widgets/controls",
      "model_module_version": "2.0.0",
      "model_name": "HTMLModel",
      "state": {
       "_dom_classes": [],
       "_model_module": "@jupyter-widgets/controls",
       "_model_module_version": "2.0.0",
       "_model_name": "HTMLModel",
       "_view_count": null,
       "_view_module": "@jupyter-widgets/controls",
       "_view_module_version": "2.0.0",
       "_view_name": "HTMLView",
       "description": "",
       "description_allow_html": false,
       "layout": "IPY_MODEL_688480aac85c4c0c97b298934a21bfac",
       "placeholder": "​",
       "style": "IPY_MODEL_d40be4f0d051405081aa5153f36c558a",
       "tabbable": null,
       "tooltip": null,
       "value": " 20/20 [00:14&lt;00:00,  1.46it/s]"
      }
     },
     "972ffa07ed8348f1968137d4dc6144fc": {
      "model_module": "@jupyter-widgets/base",
      "model_module_version": "2.0.0",
      "model_name": "LayoutModel",
      "state": {
       "_model_module": "@jupyter-widgets/base",
       "_model_module_version": "2.0.0",
       "_model_name": "LayoutModel",
       "_view_count": null,
       "_view_module": "@jupyter-widgets/base",
       "_view_module_version": "2.0.0",
       "_view_name": "LayoutView",
       "align_content": null,
       "align_items": null,
       "align_self": null,
       "border_bottom": null,
       "border_left": null,
       "border_right": null,
       "border_top": null,
       "bottom": null,
       "display": null,
       "flex": null,
       "flex_flow": null,
       "grid_area": null,
       "grid_auto_columns": null,
       "grid_auto_flow": null,
       "grid_auto_rows": null,
       "grid_column": null,
       "grid_gap": null,
       "grid_row": null,
       "grid_template_areas": null,
       "grid_template_columns": null,
       "grid_template_rows": null,
       "height": null,
       "justify_content": null,
       "justify_items": null,
       "left": null,
       "margin": null,
       "max_height": null,
       "max_width": null,
       "min_height": null,
       "min_width": null,
       "object_fit": null,
       "object_position": null,
       "order": null,
       "overflow": null,
       "padding": null,
       "right": null,
       "top": null,
       "visibility": null,
       "width": null
      }
     },
     "9c3e8394ce664f20a0bbfcfa23323bb7": {
      "model_module": "@jupyter-widgets/base",
      "model_module_version": "2.0.0",
      "model_name": "LayoutModel",
      "state": {
       "_model_module": "@jupyter-widgets/base",
       "_model_module_version": "2.0.0",
       "_model_name": "LayoutModel",
       "_view_count": null,
       "_view_module": "@jupyter-widgets/base",
       "_view_module_version": "2.0.0",
       "_view_name": "LayoutView",
       "align_content": null,
       "align_items": null,
       "align_self": null,
       "border_bottom": null,
       "border_left": null,
       "border_right": null,
       "border_top": null,
       "bottom": null,
       "display": null,
       "flex": null,
       "flex_flow": null,
       "grid_area": null,
       "grid_auto_columns": null,
       "grid_auto_flow": null,
       "grid_auto_rows": null,
       "grid_column": null,
       "grid_gap": null,
       "grid_row": null,
       "grid_template_areas": null,
       "grid_template_columns": null,
       "grid_template_rows": null,
       "height": null,
       "justify_content": null,
       "justify_items": null,
       "left": null,
       "margin": null,
       "max_height": null,
       "max_width": null,
       "min_height": null,
       "min_width": null,
       "object_fit": null,
       "object_position": null,
       "order": null,
       "overflow": null,
       "padding": null,
       "right": null,
       "top": null,
       "visibility": null,
       "width": null
      }
     },
     "a70534a618cf43debddb13b35917a108": {
      "model_module": "@jupyter-widgets/base",
      "model_module_version": "2.0.0",
      "model_name": "LayoutModel",
      "state": {
       "_model_module": "@jupyter-widgets/base",
       "_model_module_version": "2.0.0",
       "_model_name": "LayoutModel",
       "_view_count": null,
       "_view_module": "@jupyter-widgets/base",
       "_view_module_version": "2.0.0",
       "_view_name": "LayoutView",
       "align_content": null,
       "align_items": null,
       "align_self": null,
       "border_bottom": null,
       "border_left": null,
       "border_right": null,
       "border_top": null,
       "bottom": null,
       "display": null,
       "flex": null,
       "flex_flow": null,
       "grid_area": null,
       "grid_auto_columns": null,
       "grid_auto_flow": null,
       "grid_auto_rows": null,
       "grid_column": null,
       "grid_gap": null,
       "grid_row": null,
       "grid_template_areas": null,
       "grid_template_columns": null,
       "grid_template_rows": null,
       "height": null,
       "justify_content": null,
       "justify_items": null,
       "left": null,
       "margin": null,
       "max_height": null,
       "max_width": null,
       "min_height": null,
       "min_width": null,
       "object_fit": null,
       "object_position": null,
       "order": null,
       "overflow": null,
       "padding": null,
       "right": null,
       "top": null,
       "visibility": null,
       "width": null
      }
     },
     "c767a2e143744725a0e65af390c2a8af": {
      "model_module": "@jupyter-widgets/controls",
      "model_module_version": "2.0.0",
      "model_name": "ProgressStyleModel",
      "state": {
       "_model_module": "@jupyter-widgets/controls",
       "_model_module_version": "2.0.0",
       "_model_name": "ProgressStyleModel",
       "_view_count": null,
       "_view_module": "@jupyter-widgets/base",
       "_view_module_version": "2.0.0",
       "_view_name": "StyleView",
       "bar_color": null,
       "description_width": ""
      }
     },
     "c849fb003b3d4a1095bf855dda10d6ad": {
      "model_module": "@jupyter-widgets/base",
      "model_module_version": "2.0.0",
      "model_name": "LayoutModel",
      "state": {
       "_model_module": "@jupyter-widgets/base",
       "_model_module_version": "2.0.0",
       "_model_name": "LayoutModel",
       "_view_count": null,
       "_view_module": "@jupyter-widgets/base",
       "_view_module_version": "2.0.0",
       "_view_name": "LayoutView",
       "align_content": null,
       "align_items": null,
       "align_self": null,
       "border_bottom": null,
       "border_left": null,
       "border_right": null,
       "border_top": null,
       "bottom": null,
       "display": null,
       "flex": null,
       "flex_flow": null,
       "grid_area": null,
       "grid_auto_columns": null,
       "grid_auto_flow": null,
       "grid_auto_rows": null,
       "grid_column": null,
       "grid_gap": null,
       "grid_row": null,
       "grid_template_areas": null,
       "grid_template_columns": null,
       "grid_template_rows": null,
       "height": null,
       "justify_content": null,
       "justify_items": null,
       "left": null,
       "margin": null,
       "max_height": null,
       "max_width": null,
       "min_height": null,
       "min_width": null,
       "object_fit": null,
       "object_position": null,
       "order": null,
       "overflow": null,
       "padding": null,
       "right": null,
       "top": null,
       "visibility": null,
       "width": null
      }
     },
     "d40be4f0d051405081aa5153f36c558a": {
      "model_module": "@jupyter-widgets/controls",
      "model_module_version": "2.0.0",
      "model_name": "HTMLStyleModel",
      "state": {
       "_model_module": "@jupyter-widgets/controls",
       "_model_module_version": "2.0.0",
       "_model_name": "HTMLStyleModel",
       "_view_count": null,
       "_view_module": "@jupyter-widgets/base",
       "_view_module_version": "2.0.0",
       "_view_name": "StyleView",
       "background": null,
       "description_width": "",
       "font_size": null,
       "text_color": null
      }
     },
     "d58dd4208f8a45a9862840b31f5bc083": {
      "model_module": "@jupyter-widgets/controls",
      "model_module_version": "2.0.0",
      "model_name": "HBoxModel",
      "state": {
       "_dom_classes": [],
       "_model_module": "@jupyter-widgets/controls",
       "_model_module_version": "2.0.0",
       "_model_name": "HBoxModel",
       "_view_count": null,
       "_view_module": "@jupyter-widgets/controls",
       "_view_module_version": "2.0.0",
       "_view_name": "HBoxView",
       "box_style": "",
       "children": [
        "IPY_MODEL_1b29f5df9a934dcc952adb3c7a6268f5",
        "IPY_MODEL_5762f85042d54fc1996fff8a4f7c9702",
        "IPY_MODEL_88085bfee247496d9e5eb5384bdb5b10"
       ],
       "layout": "IPY_MODEL_9c3e8394ce664f20a0bbfcfa23323bb7",
       "tabbable": null,
       "tooltip": null
      }
     },
     "f5f630ac8d1a4896804b626cd3335228": {
      "model_module": "@jupyter-widgets/controls",
      "model_module_version": "2.0.0",
      "model_name": "FloatProgressModel",
      "state": {
       "_dom_classes": [],
       "_model_module": "@jupyter-widgets/controls",
       "_model_module_version": "2.0.0",
       "_model_name": "FloatProgressModel",
       "_view_count": null,
       "_view_module": "@jupyter-widgets/controls",
       "_view_module_version": "2.0.0",
       "_view_name": "ProgressView",
       "bar_style": "success",
       "description": "",
       "description_allow_html": false,
       "layout": "IPY_MODEL_c849fb003b3d4a1095bf855dda10d6ad",
       "max": 20.0,
       "min": 0.0,
       "orientation": "horizontal",
       "style": "IPY_MODEL_c767a2e143744725a0e65af390c2a8af",
       "tabbable": null,
       "tooltip": null,
       "value": 20.0
      }
     },
     "f638a24a929b4875a33d9b92db2bd41e": {
      "model_module": "@jupyter-widgets/base",
      "model_module_version": "2.0.0",
      "model_name": "LayoutModel",
      "state": {
       "_model_module": "@jupyter-widgets/base",
       "_model_module_version": "2.0.0",
       "_model_name": "LayoutModel",
       "_view_count": null,
       "_view_module": "@jupyter-widgets/base",
       "_view_module_version": "2.0.0",
       "_view_name": "LayoutView",
       "align_content": null,
       "align_items": null,
       "align_self": null,
       "border_bottom": null,
       "border_left": null,
       "border_right": null,
       "border_top": null,
       "bottom": null,
       "display": null,
       "flex": null,
       "flex_flow": null,
       "grid_area": null,
       "grid_auto_columns": null,
       "grid_auto_flow": null,
       "grid_auto_rows": null,
       "grid_column": null,
       "grid_gap": null,
       "grid_row": null,
       "grid_template_areas": null,
       "grid_template_columns": null,
       "grid_template_rows": null,
       "height": null,
       "justify_content": null,
       "justify_items": null,
       "left": null,
       "margin": null,
       "max_height": null,
       "max_width": null,
       "min_height": null,
       "min_width": null,
       "object_fit": null,
       "object_position": null,
       "order": null,
       "overflow": null,
       "padding": null,
       "right": null,
       "top": null,
       "visibility": null,
       "width": null
      }
     },
     "fb3ce6d91cc1438ba12b846cf6524433": {
      "model_module": "@jupyter-widgets/controls",
      "model_module_version": "2.0.0",
      "model_name": "HTMLModel",
      "state": {
       "_dom_classes": [],
       "_model_module": "@jupyter-widgets/controls",
       "_model_module_version": "2.0.0",
       "_model_name": "HTMLModel",
       "_view_count": null,
       "_view_module": "@jupyter-widgets/controls",
       "_view_module_version": "2.0.0",
       "_view_name": "HTMLView",
       "description": "",
       "description_allow_html": false,
       "layout": "IPY_MODEL_0e022ffc9c724e38a0bf6f5326a107a2",
       "placeholder": "​",
       "style": "IPY_MODEL_6173bdd11bfa41858abaed51ab095326",
       "tabbable": null,
       "tooltip": null,
       "value": " 20/20 [00:47&lt;00:00,  2.07s/it]"
      }
     }
    },
    "version_major": 2,
    "version_minor": 0
   }
  }
 },
 "nbformat": 4,
 "nbformat_minor": 5
}